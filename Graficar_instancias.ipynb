{
 "cells": [
  {
   "cell_type": "code",
   "execution_count": 1,
   "metadata": {
    "collapsed": true
   },
   "outputs": [],
   "source": [
    "import numpy as np\n",
    "import pandas as pd\n",
    "import os\n",
    "from collections import defaultdict\n",
    "import matplotlib.pyplot as plt\n",
    "%matplotlib inline"
   ]
  },
  {
   "cell_type": "markdown",
   "metadata": {},
   "source": [
    "### Reading outputs"
   ]
  },
  {
   "cell_type": "code",
   "execution_count": 2,
   "metadata": {
    "collapsed": true
   },
   "outputs": [],
   "source": [
    "OUTPUT_PATH = 'outputs/'\n",
    "ALGORITHMS = ['dp1', 'dp2', 'greedy', 'bf', 'bnb', 'cplex']\n",
    "LEVELS = [2]\n",
    "LEVELS_SIZE = [6664]\n",
    "\n",
    "dataframes = defaultdict(list)\n",
    "columns = ['Id','Funcion Objectivo','Tiempo']\n",
    "for alg in ALGORITHMS:\n",
    "    file = open(OUTPUT_PATH+alg + \"_\" + str(2),'r')\n",
    "    for row in file:\n",
    "        id_, fo, time = row.split()\n",
    "        dataframes[str(alg)].append({'Id':(int)(id_),'Funcion Objetivo':(float)(fo),'Time':(float)(time)})\n",
    "    #dataframes[index] = pd.read_csv(file, names = columns,header=None)"
   ]
  },
  {
   "cell_type": "code",
   "execution_count": 3,
   "metadata": {
    "collapsed": true
   },
   "outputs": [],
   "source": [
    "vector = [0]*len(ALGORITHMS)\n",
    "for alg, index in zip(ALGORITHMS,range(len(ALGORITHMS))):\n",
    "    vector[index] = pd.DataFrame(data=dataframes[alg])\n",
    "#vector\n",
    "#dataframes"
   ]
  },
  {
   "cell_type": "code",
   "execution_count": 4,
   "metadata": {},
   "outputs": [
    {
     "data": {
      "text/html": [
       "<div>\n",
       "<style scoped>\n",
       "    .dataframe tbody tr th:only-of-type {\n",
       "        vertical-align: middle;\n",
       "    }\n",
       "\n",
       "    .dataframe tbody tr th {\n",
       "        vertical-align: top;\n",
       "    }\n",
       "\n",
       "    .dataframe thead th {\n",
       "        text-align: right;\n",
       "    }\n",
       "</style>\n",
       "<table border=\"1\" class=\"dataframe\">\n",
       "  <thead>\n",
       "    <tr style=\"text-align: right;\">\n",
       "      <th></th>\n",
       "      <th>Funcion Objetivo</th>\n",
       "      <th>Id</th>\n",
       "      <th>Time</th>\n",
       "    </tr>\n",
       "  </thead>\n",
       "  <tbody>\n",
       "    <tr>\n",
       "      <th>59</th>\n",
       "      <td>35476.0</td>\n",
       "      <td>1050</td>\n",
       "      <td>0.001954</td>\n",
       "    </tr>\n",
       "  </tbody>\n",
       "</table>\n",
       "</div>"
      ],
      "text/plain": [
       "    Funcion Objetivo    Id      Time\n",
       "59           35476.0  1050  0.001954"
      ]
     },
     "execution_count": 4,
     "metadata": {},
     "output_type": "execute_result"
    }
   ],
   "source": [
    "vector[0][vector[0].Id == 1050]"
   ]
  },
  {
   "cell_type": "code",
   "execution_count": 5,
   "metadata": {},
   "outputs": [
    {
     "name": "stdout",
     "output_type": "stream",
     "text": [
      "    Funcion Objetivo    Id      Time\n",
      "59           35476.0  1050  0.001954\n",
      "     Funcion Objetivo    Id      Time\n",
      "109           27422.0  1050  0.100012\n",
      "110           35476.0  1050  0.114945\n",
      "    Funcion Objetivo    Id      Time\n",
      "59           35394.0  1050  0.001703\n",
      "    Funcion Objetivo    Id  Time\n",
      "59              -1.0  1050  -1.0\n",
      "     Funcion Objetivo    Id      Time\n",
      "285           14521.0  1050  0.001681\n",
      "286           26619.0  1050  0.001747\n",
      "287           35476.0  1050  0.001782\n",
      "288           35476.0  1050  0.002167\n",
      "     Funcion Objetivo    Id      Time\n",
      "134          475344.0  1050  0.056720\n",
      "135           35476.0  1050  0.061745\n"
     ]
    }
   ],
   "source": [
    "instancia = 1050\n",
    "\n",
    "for alg, index in zip(ALGORITHMS,range(len(ALGORITHMS))):\n",
    "    df = vector[index][vector[index].Id == instancia]\n",
    "    print(df)"
   ]
  },
  {
   "cell_type": "markdown",
   "metadata": {},
   "source": [
    "Agregando la cola desde cero"
   ]
  },
  {
   "cell_type": "code",
   "execution_count": 6,
   "metadata": {},
   "outputs": [
    {
     "name": "stdout",
     "output_type": "stream",
     "text": [
      "   Funcion Objetivo      Time\n",
      "0               0.0  0.000000\n",
      "1           35476.0  0.001954\n",
      "2           35476.0  0.114945\n",
      "   Funcion Objetivo      Time\n",
      "0               0.0  0.000000\n",
      "1           27422.0  0.100012\n",
      "2           35476.0  0.114945\n",
      "3           35476.0  0.114945\n",
      "   Funcion Objetivo      Time\n",
      "0               0.0  0.000000\n",
      "1           35394.0  0.001703\n",
      "2           35394.0  0.114945\n",
      "       Time  Funcion Objetivo\n",
      "0  0.000000               0.0\n",
      "1  0.114945               0.0\n",
      "   Funcion Objetivo      Time\n",
      "0               0.0  0.000000\n",
      "1           14521.0  0.001681\n",
      "2           26619.0  0.001747\n",
      "3           35476.0  0.001782\n",
      "4           35476.0  0.002167\n",
      "5           35476.0  0.114945\n",
      "   Funcion Objetivo      Time\n",
      "0               0.0  0.000000\n",
      "2           35476.0  0.061745\n"
     ]
    },
    {
     "data": {
      "image/png": "[encoded data removed]",
      "text/plain": [
       "<matplotlib.figure.Figure at 0x10d233780>"
      ]
     },
     "metadata": {},
     "output_type": "display_data"
    }
   ],
   "source": [
    "from matplotlib.pyplot import cm\n",
    "\n",
    "instancia = 1050\n",
    "lvl = 2\n",
    "n = len(ALGORITHMS)\n",
    "color=iter(cm.rainbow(np.linspace(0,1,n)))\n",
    "final = max([vector[i][vector[i].Id==instancia]['Time'].iloc[-1] for i in range(5)])\n",
    "for alg, index in zip(ALGORITHMS,range(len(ALGORITHMS))):\n",
    "    df = vector[index][vector[index].Id==instancia][['Time','Funcion Objetivo']]\n",
    "    c=next(color)\n",
    "    if df['Time'].iloc[0] == -1.0:\n",
    "        dos = {'Time': [0.0],'Funcion Objetivo': [0.0]}\n",
    "        to_plot = pd.DataFrame.from_dict(dos, orient = 'columns')\n",
    "        to_plot = to_plot.append({'Time': final,'Funcion Objetivo': 0.0}, ignore_index=True)\n",
    "        plt.plot(to_plot['Time'],to_plot['Funcion Objetivo'], c=c, label=str(alg))\n",
    "    else:\n",
    "        data = []\n",
    "        data.insert(0, {'Time': 0.0, 'Funcion Objetivo': 0.0})\n",
    "        to_plot = df.copy()\n",
    "        to_plot = pd.concat([pd.DataFrame(data), to_plot], ignore_index=True, sort=False)\n",
    "        if alg == 'cplex':\n",
    "            if to_plot['Funcion Objetivo'].iloc[1] > to_plot['Funcion Objetivo'].iloc[2]:\n",
    "                to_plot = to_plot.drop([1])\n",
    "            plt.plot(to_plot['Time'],to_plot['Funcion Objetivo'], c=c, label=str(alg))\n",
    "        else:\n",
    "            to_plot = to_plot.append({'Time':final,'Funcion Objetivo':df['Funcion Objetivo'].iloc[-1]}, ignore_index=True)\n",
    "            plt.plot(to_plot['Time'],to_plot['Funcion Objetivo'], c=c, label=str(alg))\n",
    "    print(to_plot)\n",
    "    to_plot = []\n",
    "plt.legend()\n",
    "plt.title('Performance of algorithms in time for instance %d, level %d'%(instancia, lvl))\n",
    "plt.xlabel('time (s)')\n",
    "plt.xlim(0, final)\n",
    "plt.ylabel('Objective Function')\n",
    "plt.savefig('instance_%d_level_%d.png'%(instancia, lvl))\n",
    "#plt.show()"
   ]
  },
  {
   "cell_type": "markdown",
   "metadata": {},
   "source": [
    "Sin la cola"
   ]
  },
  {
   "cell_type": "code",
   "execution_count": 199,
   "metadata": {},
   "outputs": [
    {
     "name": "stdout",
     "output_type": "stream",
     "text": [
      "copy          Time  Funcion Objetivo\n",
      "134  0.056720          475344.0\n",
      "135  0.061745           35476.0\n"
     ]
    },
    {
     "data": {
      "image/png": "[encoded data removed]",
      "text/plain": [
       "<matplotlib.figure.Figure at 0x11d3be2e8>"
      ]
     },
     "metadata": {},
     "output_type": "display_data"
    }
   ],
   "source": [
    "from matplotlib.pyplot import cm\n",
    "\n",
    "instancia = 1050\n",
    "lvl = 2\n",
    "n = len(ALGORITHMS)\n",
    "color=iter(cm.rainbow(np.linspace(0,1,n)))\n",
    "final = max([vector[i][vector[i].Id==instancia]['Time'].iloc[-1] for i in range(5)])\n",
    "for alg, index in zip(ALGORITHMS,range(len(ALGORITHMS))):\n",
    "    df = vector[index][vector[index].Id==instancia][['Time','Funcion Objetivo']]\n",
    "    c=next(color)\n",
    "    if df['Time'].iloc[0] == -1.0:\n",
    "        #dos = {'Time': [0.0],'Funcion Objetivo': [0.0]}\n",
    "        #to_plot = pd.DataFrame.from_dict(dos, orient = 'columns')\n",
    "        #to_plot = to_plot.append({'Time': final,'Funcion Objetivo': 0.0}, ignore_index=True)\n",
    "        #plt.plot(to_plot['Time'],to_plot['Funcion Objetivo'], c=c, label=str(alg))\n",
    "        pass\n",
    "    else:\n",
    "        to_plot = df.copy()\n",
    "        if alg == 'cplex':\n",
    "            print('copy',to_plot)\n",
    "            if to_plot['Funcion Objetivo'].iloc[0] > to_plot['Funcion Objetivo'].iloc[1]:\n",
    "                #to_plot = to_plot.drop([to_plot.loc[0]])\n",
    "                to_plot = to_plot[to_plot['Funcion Objetivo'] != to_plot['Funcion Objetivo'].iloc[0]]\n",
    "            to_plot = to_plot.append({'Time':final,'Funcion Objetivo':df['Funcion Objetivo'].iloc[-1]}, ignore_index=True)\n",
    "            plt.plot(to_plot['Time'],to_plot['Funcion Objetivo'], c=c, label=str(alg))\n",
    "        else:\n",
    "            to_plot = to_plot.append({'Time':final,'Funcion Objetivo':df['Funcion Objetivo'].iloc[-1]}, ignore_index=True)\n",
    "            plt.plot(to_plot['Time'],to_plot['Funcion Objetivo'], c=c, label=str(alg))\n",
    "    #print(to_plot)\n",
    "    to_plot = []\n",
    "plt.legend()\n",
    "plt.title('Performance of algorithms in time for instance %d, level %d'%(instancia, lvl))\n",
    "plt.xlabel('time (s)')\n",
    "plt.xlim(0, final)\n",
    "plt.ylabel('Objective Function')\n",
    "plt.savefig('foo.png')\n",
    "#plt.show()"
   ]
  },
  {
   "cell_type": "code",
   "execution_count": null,
   "metadata": {
    "collapsed": true
   },
   "outputs": [],
   "source": []
  }
 ],
 "metadata": {
  "kernelspec": {
   "display_name": "Python [default]",
   "language": "python",
   "name": "python3"
  },
  "language_info": {
   "codemirror_mode": {
    "name": "ipython",
    "version": 3
   },
   "file_extension": ".py",
   "mimetype": "text/x-python",
   "name": "python",
   "nbconvert_exporter": "python",
   "pygments_lexer": "ipython3",
   "version": "3.6.3"
  }
 },
 "nbformat": 4,
 "nbformat_minor": 2
}
