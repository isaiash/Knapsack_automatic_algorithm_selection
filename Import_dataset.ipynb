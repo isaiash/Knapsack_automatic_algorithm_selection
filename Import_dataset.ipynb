{
 "cells": [
  {
   "cell_type": "code",
   "execution_count": 158,
   "metadata": {},
   "outputs": [],
   "source": [
    "import numpy as np\n",
    "import pandas as pd\n",
    "import os\n",
    "from collections import defaultdict"
   ]
  },
  {
   "cell_type": "markdown",
   "metadata": {},
   "source": [
    "### Globals"
   ]
  },
  {
   "cell_type": "code",
   "execution_count": 159,
   "metadata": {},
   "outputs": [],
   "source": [
    "OUTPUT_PATH = 'outputs/'\n",
    "FEATURES_PATH = 'features/'\n",
    "ALGORITHMS = ['dp1', 'dp2', 'greedy', 'bf', 'bnb', 'cplex']\n",
    "LEVELS = [1,2,3,6,7,8]\n",
    "LEVELS_SIZE = [19198 ,9983, 6664,0, 0, 3333, 2857, 2500]\n",
    "FEATURES = ['num_elem',\n",
    "            'cap',\n",
    "            'cap_mean_w',\n",
    "            'cap_median_w', \n",
    "            'cap_desv_w', \n",
    "            'mean_w_mean_v',\n",
    "            'median_w_median_v', \n",
    "            'desv_w_desv_v',\n",
    "            'max_w_min_w',\n",
    "            'max_v_min_v',\n",
    "            'mean_w',\n",
    "            'median_w', \n",
    "            'desv_w', \n",
    "            'min_w', \n",
    "            'max_w', \n",
    "            'mean_v', \n",
    "            'median_v', \n",
    "            'desv_v', \n",
    "            'min_v', \n",
    "            'max_v',\n",
    "            'p_coef' \n",
    "           ]"
   ]
  },
  {
   "cell_type": "markdown",
   "metadata": {},
   "source": [
    "### Helpers"
   ]
  },
  {
   "cell_type": "code",
   "execution_count": 160,
   "metadata": {},
   "outputs": [],
   "source": [
    "def get_features(lvl, id_):\n",
    "    return np.array(open(FEATURES_PATH +str(lvl)+'/'+ str(id_),'r').read().split(), dtype=float)\n",
    "\n",
    "def get_best(lvl, id_, t):\n",
    "    best_fo = 0\n",
    "    best_alg = 0\n",
    "    best_time = 900000\n",
    "    for alg in ALGORITHMS:\n",
    "        if lvl not in alg_data[alg].keys(): continue\n",
    "        if id_ not in alg_data[alg][lvl].keys(): continue\n",
    "        for res in alg_data[alg][lvl][id_]:\n",
    "            if res[1] < t:\n",
    "                if res[0] > best_fo:\n",
    "                    best_fo = res[0]\n",
    "                    best_time = res[1]\n",
    "                    best_alg = ALGORITHMS.index(alg)\n",
    "                \n",
    "                elif res[0] == best_fo and res[1] < best_time:\n",
    "                    best_time = res[1]\n",
    "                    best_alg = ALGORITHMS.index(alg)\n",
    "    return best_alg+1\n",
    "\n",
    "def plot_value_array(i, predictions_array, true_label):\n",
    "    predictions_array, true_label = predictions_array[i], true_label[i]\n",
    "    plt.grid(False)\n",
    "    plt.xticks([])\n",
    "    plt.yticks([])\n",
    "    thisplot = plt.bar(range(7), predictions_array, color=\"#777777\")\n",
    "    plt.ylim([0, 1]) \n",
    "    plt.xticks(np.arange(7), ALGORITHMS)\n",
    "    predicted_label = np.argmax(predictions_array)\n",
    "\n",
    "    thisplot[predicted_label].set_color('red')\n",
    "    thisplot[true_label].set_color('blue')"
   ]
  },
  {
   "cell_type": "markdown",
   "metadata": {},
   "source": [
    "### Reading outputs"
   ]
  },
  {
   "cell_type": "code",
   "execution_count": 161,
   "metadata": {
    "scrolled": true
   },
   "outputs": [
    {
     "name": "stdout",
     "output_type": "stream",
     "text": [
      "Faltan los siguientes resultados:\n",
      "dp1 6\n",
      "dp1 7\n",
      "dp2 3\n",
      "dp2 6\n",
      "dp2 7\n",
      "dp2 8\n",
      "greedy 8\n",
      "bnb 8\n",
      "cplex 6\n",
      "cplex 7\n",
      "cplex 8\n"
     ]
    }
   ],
   "source": [
    "output_files = os.listdir(OUTPUT_PATH)\n",
    "alg_data = defaultdict(list)\n",
    "\n",
    "print(\"Faltan los siguientes resultados:\")\n",
    "for alg in ALGORITHMS:\n",
    "    alg_data[alg] = defaultdict(list)\n",
    "    for lvl in LEVELS:\n",
    "        filename = alg + \"_\" + str(lvl)\n",
    "        if filename not in output_files: # En caso de que todavía no hayan resultados\n",
    "            print(alg, lvl)\n",
    "            continue\n",
    "        alg_data[alg][lvl] = defaultdict(list)\n",
    "        file = open(OUTPUT_PATH+filename,'r')\n",
    "        for row in file:\n",
    "            id_, fo, time = row.split()\n",
    "            alg_data[alg][lvl][int(id_)].append([(float)(fo), (float)(time)])"
   ]
  },
  {
   "cell_type": "code",
   "execution_count": 105,
   "metadata": {},
   "outputs": [
    {
     "name": "stdout",
     "output_type": "stream",
     "text": [
      "Features:  [ 1.05132000e+05  6.20190000e+04  2.00002931e+00  1.99797043e+00\n",
      "  3.45401114e+00  4.78519113e-01  4.79146085e-01  4.80291897e-01\n",
      "  6.20150000e+04  1.29598000e+05  3.10090456e+04  3.10410000e+04\n",
      "  1.79556456e+04  2.00000000e+00  6.20170000e+04  6.48021046e+04\n",
      "  6.47840000e+04  3.73848606e+04  1.00000000e+00  1.29599000e+05\n",
      " -3.24874867e-03]\n",
      "greedy [[34786905.0, 0.019811]]\n",
      "bf [[-1.0, -1.0]]\n",
      "bnb [[1149655.0, 0.060707], [2109483.0, 0.065099], [3211855.0, 0.069291], [4155209.0, 0.073327], [5204743.0, 0.077353], [6266873.0, 0.081355], [7292631.0, 0.085223], [8004248.0, 0.089095], [8895013.0, 0.092969], [9699179.0, 0.096684], [10687140.0, 0.100405], [11623073.0, 0.104123], [12606337.0, 0.107726], [13531786.0, 0.111307], [14493556.0, 0.114888], [15425104.0, 0.118407], [16337223.0, 0.121858], [17212703.0, 0.125299], [18117885.0, 0.128768], [19117529.0, 0.132109], [19948997.0, 0.135444], [20727484.0, 0.138793], [21592562.0, 0.142105], [22642608.0, 0.145339], [23670397.0, 0.148559], [24398532.0, 0.151777], [25237716.0, 0.154955], [26293064.0, 0.158085], [27293273.0, 0.161206], [28400329.0, 0.164314], [29353533.0, 0.167367], [30312353.0, 0.170425], [31194268.0, 0.17346], [32046850.0, 0.176505], [32976646.0, 0.17945], [33901775.0, 0.182415], [34783883.0, 0.211453], [34784153.0, 0.213413], [34784919.0, 0.270266], [34785941.0, 0.308665], [34786211.0, 0.315732], [34786730.0, 0.335665], [34787109.0, 0.455254], [34787109.0, 0.493855]]\n",
      "BEST:  bnb\n"
     ]
    }
   ],
   "source": [
    "# comparing al ojo\n",
    "lvl_ = 6\n",
    "id_ = 33\n",
    "print(\"Features: \", get_features(lvl_, id_))\n",
    "for alg in ALGORITHMS:\n",
    "    if lvl_ in alg_data[alg]:\n",
    "        if id_ in alg_data[alg][lvl_]:\n",
    "            print(alg, alg_data[alg][lvl_][id_])\n",
    "    \n",
    "print('BEST: ',ALGORITHMS[get_best(lvl_,id_,1)])"
   ]
  },
  {
   "cell_type": "code",
   "execution_count": 162,
   "metadata": {},
   "outputs": [],
   "source": [
    "timesteps = np.logspace(1, 30, num=100, base=1.1)-1.1 # escala logaritmica para los tiempos"
   ]
  },
  {
   "cell_type": "code",
   "execution_count": 133,
   "metadata": {},
   "outputs": [
    {
     "name": "stdout",
     "output_type": "stream",
     "text": [
      "dp1 1368\n",
      "dp2 0\n",
      "greedy 0\n",
      "bf 2500\n",
      "bnb 0\n",
      "cplex 0\n"
     ]
    }
   ],
   "source": [
    "for alg in ALGORITHMS:\n",
    "    print(alg, len(alg_data[alg][8]))"
   ]
  },
  {
   "cell_type": "code",
   "execution_count": 163,
   "metadata": {},
   "outputs": [
    {
     "name": "stdout",
     "output_type": "stream",
     "text": [
      "level 1...\n",
      "level 2...\n",
      "level 3...\n",
      "level 6...\n",
      "level 7...\n",
      "level 8...\n"
     ]
    }
   ],
   "source": [
    "train_data = []\n",
    "train_label = []\n",
    "\n",
    "count = 0\n",
    "\n",
    "for lvl in LEVELS:\n",
    "    print(\"level \"+str(lvl)+\"...\")\n",
    "    for id_ in range(LEVELS_SIZE[lvl-1]):\n",
    "        fts = get_features(lvl, id_)\n",
    "        for t in timesteps:\n",
    "            train_data.append([*fts, t+1])\n",
    "            train_label.append(get_best(lvl, id_, t))\n",
    "        count += 1"
   ]
  },
  {
   "cell_type": "markdown",
   "metadata": {},
   "source": [
    "#### Standard Scale: mean=0 and std=1"
   ]
  },
  {
   "cell_type": "code",
   "execution_count": 172,
   "metadata": {},
   "outputs": [],
   "source": [
    "from sklearn.preprocessing import StandardScaler\n",
    "scaler = StandardScaler()\n",
    "strain_data = scaler.transform_transform(train_data)"
   ]
  },
  {
   "cell_type": "markdown",
   "metadata": {},
   "source": [
    "#### or... between 0 and 1"
   ]
  },
  {
   "cell_type": "code",
   "execution_count": 204,
   "metadata": {},
   "outputs": [],
   "source": [
    "from sklearn.preprocessing import MinMaxScaler\n",
    "min_max_scaler = MinMaxScaler()\n",
    "strain_data = min_max_scaler.fit_transform(train_data)"
   ]
  },
  {
   "cell_type": "markdown",
   "metadata": {},
   "source": [
    "## NN"
   ]
  },
  {
   "cell_type": "code",
   "execution_count": 142,
   "metadata": {},
   "outputs": [
    {
     "name": "stderr",
     "output_type": "stream",
     "text": [
      "/home/miguel/anaconda3/lib/python3.6/site-packages/h5py/__init__.py:36: FutureWarning: Conversion of the second argument of issubdtype from `float` to `np.floating` is deprecated. In future, it will be treated as `np.float64 == np.dtype(float).type`.\n",
      "  from ._conv import register_converters as _register_converters\n",
      "Using TensorFlow backend.\n"
     ]
    }
   ],
   "source": [
    "# TensorFlow and tf.keras# Tensor \n",
    "import tensorflow as tf\n",
    "#from tensorflow import keras\n",
    "#from keras.layers import Dropout, Dense\n",
    "from keras import Sequential\n",
    "from keras import optimizers\n",
    "from keras.models import Model   \n",
    "from keras.layers import *\n",
    "import keras\n",
    "# Helper libraries\n",
    "import matplotlib.pyplot as plt\n",
    "import sklearn\n",
    "from sklearn.model_selection import train_test_split"
   ]
  },
  {
   "cell_type": "markdown",
   "metadata": {},
   "source": [
    "### Train and Test set"
   ]
  },
  {
   "cell_type": "code",
   "execution_count": 205,
   "metadata": {},
   "outputs": [],
   "source": [
    "X_train, X_test, y_train, y_test = train_test_split(strain_data, train_label, test_size=0.3, random_state=42)"
   ]
  },
  {
   "cell_type": "markdown",
   "metadata": {},
   "source": [
    "### Saving"
   ]
  },
  {
   "cell_type": "code",
   "execution_count": 166,
   "metadata": {},
   "outputs": [],
   "source": [
    "with open('X_train.csv', 'w') as FOUT:\n",
    "    np.savetxt(FOUT, X_train)\n",
    "with open('X_test.csv', 'w') as FOUT:\n",
    "    np.savetxt(FOUT, X_test)\n",
    "with open('y_train.csv', 'w') as FOUT:\n",
    "    np.savetxt(FOUT, y_train)\n",
    "with open('y_test.csv', 'w') as FOUT:\n",
    "    np.savetxt(FOUT, y_test)"
   ]
  },
  {
   "cell_type": "markdown",
   "metadata": {},
   "source": [
    "### Loading"
   ]
  },
  {
   "cell_type": "markdown",
   "metadata": {},
   "source": [
    "##### Train set"
   ]
  },
  {
   "cell_type": "code",
   "execution_count": null,
   "metadata": {},
   "outputs": [],
   "source": [
    "y_train = np.loadtxt('y_train.csv', dtype=float)\n",
    "X_train = np.loadtxt('X_train.csv', dtype=float)"
   ]
  },
  {
   "cell_type": "markdown",
   "metadata": {},
   "source": [
    "###### Test set"
   ]
  },
  {
   "cell_type": "code",
   "execution_count": null,
   "metadata": {},
   "outputs": [],
   "source": [
    "X_test = np.loadtxt('X_test.csv', dtype=float)\n",
    "y_test = np.loadtxt('y_test.csv', dtype=float)"
   ]
  },
  {
   "cell_type": "markdown",
   "metadata": {},
   "source": [
    "### Model"
   ]
  },
  {
   "cell_type": "code",
   "execution_count": 206,
   "metadata": {},
   "outputs": [],
   "source": [
    "model = Sequential([\n",
    "    Dense(128, input_shape = (22,), activation='relu'),\n",
    "    Dense(64, activation='sigmoid'),\n",
    "    Dropout(0.5), \n",
    "    Dense(64, activation='sigmoid'),\n",
    "    Dropout(0.5), \n",
    "    Dense(7, activation='softmax')\n",
    "])"
   ]
  },
  {
   "cell_type": "code",
   "execution_count": 207,
   "metadata": {},
   "outputs": [],
   "source": [
    "model.compile(optimizer='adam',\n",
    "              loss='sparse_categorical_crossentropy',\n",
    "              metrics=['accuracy'])"
   ]
  },
  {
   "cell_type": "code",
   "execution_count": 209,
   "metadata": {},
   "outputs": [
    {
     "name": "stdout",
     "output_type": "stream",
     "text": [
      "Train on 2182215 samples, validate on 935235 samples\n",
      "Epoch 1/10\n",
      "2182215/2182215 [==============================] - 76s 35us/step - loss: 0.6569 - acc: 0.6674 - val_loss: 0.6443 - val_acc: 0.6690\n",
      "Epoch 2/10\n",
      "2182215/2182215 [==============================] - 77s 35us/step - loss: 0.6523 - acc: 0.6702 - val_loss: 0.6391 - val_acc: 0.6717\n",
      "Epoch 3/10\n",
      "2182215/2182215 [==============================] - 76s 35us/step - loss: 0.6496 - acc: 0.6715 - val_loss: 0.6386 - val_acc: 0.6789\n",
      "Epoch 4/10\n",
      "2182215/2182215 [==============================] - 77s 35us/step - loss: 0.6470 - acc: 0.6733 - val_loss: 0.6321 - val_acc: 0.6744\n",
      "Epoch 5/10\n",
      "2182215/2182215 [==============================] - 74s 34us/step - loss: 0.6451 - acc: 0.6738 - val_loss: 0.6312 - val_acc: 0.6812\n",
      "Epoch 6/10\n",
      "2182215/2182215 [==============================] - 75s 34us/step - loss: 0.6438 - acc: 0.6746 - val_loss: 0.6284 - val_acc: 0.6805\n",
      "Epoch 7/10\n",
      "2182215/2182215 [==============================] - 74s 34us/step - loss: 0.6426 - acc: 0.6752 - val_loss: 0.6270 - val_acc: 0.6823\n",
      "Epoch 8/10\n",
      "2182215/2182215 [==============================] - 75s 34us/step - loss: 0.6418 - acc: 0.6755 - val_loss: 0.6297 - val_acc: 0.6796\n",
      "Epoch 9/10\n",
      "2182215/2182215 [==============================] - 76s 35us/step - loss: 0.6407 - acc: 0.6758 - val_loss: 0.6263 - val_acc: 0.6835\n",
      "Epoch 10/10\n",
      "2182215/2182215 [==============================] - 77s 35us/step - loss: 0.6400 - acc: 0.6762 - val_loss: 0.6240 - val_acc: 0.6842\n"
     ]
    }
   ],
   "source": [
    "history = model.fit(np.array(X_train), \n",
    "                    np.array(y_train), \n",
    "                    epochs=10,\n",
    "                    validation_split=0.3)"
   ]
  },
  {
   "cell_type": "code",
   "execution_count": 210,
   "metadata": {},
   "outputs": [
    {
     "data": {
      "image/png": "[encoded data removed]",
      "text/plain": [
       "<Figure size 432x288 with 1 Axes>"
      ]
     },
     "metadata": {},
     "output_type": "display_data"
    }
   ],
   "source": [
    "plt.plot(history.history['acc'])\n",
    "plt.plot(history.history['val_acc'])\n",
    "plt.title('model accuracy')\n",
    "plt.ylabel('accuracy')\n",
    "plt.xlabel('epoch')\n",
    "plt.legend(['train', 'test'], loc='upper left')\n",
    "plt.show()"
   ]
  },
  {
   "cell_type": "code",
   "execution_count": 211,
   "metadata": {},
   "outputs": [
    {
     "data": {
      "image/png": "[encoded data removed]",
      "text/plain": [
       "<Figure size 432x288 with 1 Axes>"
      ]
     },
     "metadata": {},
     "output_type": "display_data"
    }
   ],
   "source": [
    "plt.plot(history.history['loss'])\n",
    "plt.plot(history.history['val_loss'])\n",
    "plt.title('model loss')\n",
    "plt.ylabel('loss')\n",
    "plt.xlabel('epoch')\n",
    "plt.legend(['train', 'test'], loc='upper left')\n",
    "plt.show()"
   ]
  },
  {
   "cell_type": "code",
   "execution_count": 180,
   "metadata": {},
   "outputs": [
    {
     "name": "stderr",
     "output_type": "stream",
     "text": [
      "[Parallel(n_jobs=-1)]: Done  34 tasks      | elapsed:   46.1s\n",
      "[Parallel(n_jobs=-1)]: Done 100 out of 100 | elapsed:  2.0min finished\n"
     ]
    }
   ],
   "source": [
    "from sklearn.ensemble import RandomForestClassifier\n",
    "\n",
    "clf = RandomForestClassifier(n_estimators=100, max_depth=3, random_state=0, n_jobs=-1 ,verbose=1)\n",
    "h = clf.fit(X_train, y_train)"
   ]
  },
  {
   "cell_type": "code",
   "execution_count": 181,
   "metadata": {},
   "outputs": [
    {
     "name": "stderr",
     "output_type": "stream",
     "text": [
      "[Parallel(n_jobs=8)]: Done  34 tasks      | elapsed:    1.9s\n",
      "[Parallel(n_jobs=8)]: Done 100 out of 100 | elapsed:    5.4s finished\n"
     ]
    },
    {
     "data": {
      "text/plain": [
       "0.6365734815313798"
      ]
     },
     "execution_count": 181,
     "metadata": {},
     "output_type": "execute_result"
    }
   ],
   "source": [
    "clf.score(X_test, y_test)"
   ]
  },
  {
   "cell_type": "code",
   "execution_count": 152,
   "metadata": {},
   "outputs": [
    {
     "name": "stderr",
     "output_type": "stream",
     "text": [
      "[Parallel(n_jobs=8)]: Done  34 tasks      | elapsed:    2.0s\n",
      "[Parallel(n_jobs=8)]: Done 100 out of 100 | elapsed:    5.5s finished\n"
     ]
    }
   ],
   "source": [
    "pred = clf.predict(X_test)"
   ]
  },
  {
   "cell_type": "code",
   "execution_count": 212,
   "metadata": {},
   "outputs": [
    {
     "data": {
      "text/plain": [
       "LinearSVC(C=1.0, class_weight=None, dual=True, fit_intercept=True,\n",
       "     intercept_scaling=1, loss='squared_hinge', max_iter=1000,\n",
       "     multi_class='ovr', penalty='l2', random_state=None, tol=0.0001,\n",
       "     verbose=0)"
      ]
     },
     "execution_count": 212,
     "metadata": {},
     "output_type": "execute_result"
    }
   ],
   "source": [
    "from sklearn import svm\n",
    "\n",
    "clfsvm = svm.LinearSVC()\n",
    "clfsvm.fit(X_train, y_train)  "
   ]
  },
  {
   "cell_type": "code",
   "execution_count": 213,
   "metadata": {},
   "outputs": [
    {
     "data": {
      "text/plain": [
       "0.4068710003368137"
      ]
     },
     "execution_count": 213,
     "metadata": {},
     "output_type": "execute_result"
    }
   ],
   "source": [
    "clfsvm.score(X_test, y_test)"
   ]
  },
  {
   "cell_type": "code",
   "execution_count": 214,
   "metadata": {},
   "outputs": [
    {
     "data": {
      "text/plain": [
       "KNeighborsClassifier(algorithm='auto', leaf_size=30, metric='minkowski',\n",
       "           metric_params=None, n_jobs=1, n_neighbors=3, p=2,\n",
       "           weights='uniform')"
      ]
     },
     "execution_count": 214,
     "metadata": {},
     "output_type": "execute_result"
    }
   ],
   "source": [
    "from sklearn.neighbors import KNeighborsClassifier\n",
    "neigh = KNeighborsClassifier(n_neighbors=3)\n",
    "neigh.fit(X_train, y_train) "
   ]
  },
  {
   "cell_type": "code",
   "execution_count": 215,
   "metadata": {},
   "outputs": [
    {
     "data": {
      "text/plain": [
       "0.8133176153587066"
      ]
     },
     "execution_count": 215,
     "metadata": {},
     "output_type": "execute_result"
    }
   ],
   "source": [
    "neigh.score(X_test, y_test)"
   ]
  },
  {
   "cell_type": "code",
   "execution_count": null,
   "metadata": {},
   "outputs": [
    {
     "name": "stdout",
     "output_type": "stream",
     "text": [
      "      Iter       Train Loss   Remaining Time \n",
      "         1     4540763.2574           24.05m\n",
      "         2     4132673.3637           23.12m\n",
      "         3     3813280.9972           21.86m\n",
      "         4     3558892.4159           20.72m\n"
     ]
    }
   ],
   "source": [
    "from sklearn.ensemble import GradientBoostingClassifier\n",
    "\n",
    "gb = GradientBoostingClassifier(n_estimators=20,verbose=1)\n",
    "h = gb.fit(X_train, y_train)"
   ]
  },
  {
   "cell_type": "code",
   "execution_count": null,
   "metadata": {},
   "outputs": [],
   "source": [
    "gb.score(X_test, y_test)"
   ]
  },
  {
   "cell_type": "markdown",
   "metadata": {},
   "source": [
    "### Evaluate Accuracy (test set)"
   ]
  },
  {
   "cell_type": "code",
   "execution_count": 177,
   "metadata": {},
   "outputs": [
    {
     "name": "stdout",
     "output_type": "stream",
     "text": [
      "1336050/1336050 [==============================] - 14s 10us/step\n",
      "Test accuracy: 0.6602537330188846\n"
     ]
    }
   ],
   "source": [
    "test_loss, test_acc = model.evaluate(np.array(X_test), np.array(y_test))\n",
    "\n",
    "print('Test accuracy:', test_acc)"
   ]
  },
  {
   "cell_type": "markdown",
   "metadata": {},
   "source": [
    "### Individual Predictions"
   ]
  },
  {
   "cell_type": "code",
   "execution_count": 178,
   "metadata": {},
   "outputs": [],
   "source": [
    "pred = model.predict(np.array(X_test))"
   ]
  },
  {
   "cell_type": "code",
   "execution_count": null,
   "metadata": {},
   "outputs": [],
   "source": [
    "# rojo predicho\n",
    "# azul verdadero\n",
    "i = 5\n",
    "print(X_test[i])\n",
    "print(pred[:10])\n",
    "print(y_test[:10])\n",
    "plt.figure()\n",
    "plot_value_array(i, pred,  np.array(y_test, dtype=int))"
   ]
  },
  {
   "cell_type": "markdown",
   "metadata": {},
   "source": [
    "### Confusion matrix"
   ]
  },
  {
   "cell_type": "code",
   "execution_count": 179,
   "metadata": {},
   "outputs": [
    {
     "data": {
      "text/plain": [
       "<matplotlib.image.AxesImage at 0x7f454d1f8be0>"
      ]
     },
     "execution_count": 179,
     "metadata": {},
     "output_type": "execute_result"
    },
    {
     "data": {
      "image/png": "[encoded data removed]",
      "text/plain": [
       "<Figure size 432x288 with 1 Axes>"
      ]
     },
     "metadata": {},
     "output_type": "display_data"
    }
   ],
   "source": [
    "best_predictions = np.argmax(pred,axis=1)\n",
    "\n",
    "cm = sklearn.metrics.confusion_matrix(np.array(y_test, dtype=int), best_predictions)\n",
    "\n",
    "fig, ax = plt.subplots()\n",
    "\n",
    "ax.matshow(cm, cmap=plt.cm.Blues)"
   ]
  },
  {
   "cell_type": "code",
   "execution_count": 26,
   "metadata": {},
   "outputs": [
    {
     "data": {
      "text/plain": [
       "{0, 1, 3, 4}"
      ]
     },
     "execution_count": 26,
     "metadata": {},
     "output_type": "execute_result"
    }
   ],
   "source": [
    "set(y_test)"
   ]
  },
  {
   "cell_type": "code",
   "execution_count": null,
   "metadata": {},
   "outputs": [],
   "source": [
    "sample = np.array(X_test[0])\n",
    "sample = (np.expand_dims(sample,0))\n",
    "predictions_single = model.predict(sample)\n",
    "\n",
    "print(predictions_single)"
   ]
  },
  {
   "cell_type": "code",
   "execution_count": null,
   "metadata": {},
   "outputs": [],
   "source": [
    "y_test[0]"
   ]
  },
  {
   "cell_type": "code",
   "execution_count": null,
   "metadata": {},
   "outputs": [],
   "source": []
  }
 ],
 "metadata": {
  "kernelspec": {
   "display_name": "Python 3",
   "language": "python",
   "name": "python3"
  },
  "language_info": {
   "codemirror_mode": {
    "name": "ipython",
    "version": 3
   },
   "file_extension": ".py",
   "mimetype": "text/x-python",
   "name": "python",
   "nbconvert_exporter": "python",
   "pygments_lexer": "ipython3",
   "version": "3.6.5"
  }
 },
 "nbformat": 4,
 "nbformat_minor": 2
}
