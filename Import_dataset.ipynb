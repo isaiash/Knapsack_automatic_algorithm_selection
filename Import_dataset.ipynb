{
 "cells": [
  {
   "cell_type": "code",
   "execution_count": 1,
   "metadata": {},
   "outputs": [],
   "source": [
    "import numpy as np\n",
    "import pandas as pd\n",
    "import os\n",
    "from collections import defaultdict\n",
    "import matplotlib.pyplot as plt"
   ]
  },
  {
   "cell_type": "markdown",
   "metadata": {},
   "source": [
    "### Globals"
   ]
  },
  {
   "cell_type": "code",
   "execution_count": 21,
   "metadata": {},
   "outputs": [],
   "source": [
    "OUTPUT_PATH = 'outputs/'\n",
    "FEATURES_PATH = 'features/'\n",
    "ALGORITHMS = ['bf', 'dp','greedy', 'bnb', 'cplex']\n",
    "LEVELS = [1,2,3,4, 5, 6]#,7]#,8]\n",
    "LEVELS_SIZE = [19198 ,9983, 6664, 4994, 3999, 3333]#, 2857]#, 2500]\n",
    "FEATURES = ['num_elem',\n",
    "            'cap',\n",
    "            'cap_mean_w',\n",
    "            'cap_median_w', \n",
    "            'cap_desv_w', \n",
    "            'mean_w_mean_v',\n",
    "            'median_w_median_v', \n",
    "            'desv_w_desv_v',\n",
    "            'max_w_min_w',\n",
    "            'max_v_min_v',\n",
    "            'mean_w',\n",
    "            'median_w', \n",
    "            'desv_w', \n",
    "            'min_w', \n",
    "            'max_w', \n",
    "            'mean_v', \n",
    "            'median_v', \n",
    "            'desv_v', \n",
    "            'min_v', \n",
    "            'max_v',\n",
    "            'p_coef' \n",
    "           ]"
   ]
  },
  {
   "cell_type": "code",
   "execution_count": 3,
   "metadata": {},
   "outputs": [
    {
     "data": {
      "image/png": "[encoded data removed]",
      "text/plain": [
       "<Figure size 432x288 with 1 Axes>"
      ]
     },
     "metadata": {},
     "output_type": "display_data"
    }
   ],
   "source": [
    "# Plot the feature importances of the forest\n",
    "FULL_LEVELS_SIZE = [19198 ,9983, 6664, 4994, 3999, 3333, 2857, 2500, 2200, 2000]\n",
    "plt.figure()\n",
    "plt.title(\"Dataset size per level\")\n",
    "plt.title('Total: '+str(sum(FULL_LEVELS_SIZE)), loc='left', fontsize=8)\n",
    "bars = plt.bar(range(10), FULL_LEVELS_SIZE, color=\"#f89441\")\n",
    "\n",
    "plt.xticks(range(10), [i+1 for i in range(10)])\n",
    "plt.xlim([-1, 10])\n",
    "plt.xlabel(\"Level\")\n",
    "plt.ylabel(\"Amount of intances\")\n",
    "for bar in bars:\n",
    "    yval = bar.get_height()\n",
    "    plt.text(bar.get_x(), yval + 150, yval, color='gray', fontsize=8)\n",
    "\n",
    "    \n",
    "for i in range(6):\n",
    "    bars[i].set_color('#a82296')\n",
    "    \n",
    "plt.show()"
   ]
  },
  {
   "cell_type": "code",
   "execution_count": 39,
   "metadata": {},
   "outputs": [
    {
     "data": {
      "image/png": "[encoded data removed]",
      "text/plain": [
       "<Figure size 432x288 with 1 Axes>"
      ]
     },
     "metadata": {},
     "output_type": "display_data"
    }
   ],
   "source": [
    "# Plot the feature importances of the forest\n",
    "a = plt.figure()\n",
    "plt.title(\"Instance size per level\")\n",
    "y = [(int)(1000000*((i + 1)/10)**4) for i in range(10)]\n",
    "bars = plt.bar(range(10), y, color=\"#f89441\")\n",
    "plt.ticklabel_format(style='plain')\n",
    "plt.xticks(range(10), [i+1 for i in range(10)])\n",
    "plt.xlim([-1, 10])\n",
    "plt.xlabel(\"Level\")\n",
    "plt.ylabel(\"Maximum number of elements\")\n",
    "\n",
    "for bar in bars:\n",
    "    yval = bar.get_height()\n",
    "    plt.text(bar.get_x()-0.1, yval + 6500, yval, color='gray', fontsize=8)\n",
    "\n",
    "for i in range(6):\n",
    "    bars[i].set_color('#a82296')\n",
    "    \n",
    "plt.show()\n",
    "a.savefig(\"instance_size\", bbox_inches = 'tight', dpi=300)"
   ]
  },
  {
   "cell_type": "markdown",
   "metadata": {},
   "source": [
    "### Helpers"
   ]
  },
  {
   "cell_type": "code",
   "execution_count": 5,
   "metadata": {},
   "outputs": [],
   "source": [
    "def get_features(lvl, id_):\n",
    "    return np.array(open(FEATURES_PATH +str(lvl)+'/'+ str(id_),'r').read().split(), dtype=float)\n",
    "\n",
    "def get_best(lvl, id_, t):\n",
    "    best_fo = 0\n",
    "    best_alg = 0\n",
    "    best_time = 900000\n",
    "    for alg in ALGORITHMS:\n",
    "        if lvl not in alg_data[alg].keys(): continue\n",
    "        if id_ not in alg_data[alg][lvl].keys(): continue\n",
    "        for res in alg_data[alg][lvl][id_]:\n",
    "            if res[1] < t:\n",
    "                if res[0] > best_fo:\n",
    "                    best_fo = res[0]\n",
    "                    best_time = res[1]\n",
    "                    best_alg = ALGORITHMS.index(alg)\n",
    "                \n",
    "                elif res[0] == best_fo and res[1] < best_time:\n",
    "                    best_time = res[1]\n",
    "                    best_alg = ALGORITHMS.index(alg)\n",
    "    return best_alg+1\n",
    "\n",
    "def plot_value_array(i, predictions_array, true_label):\n",
    "    predictions_array, true_label = predictions_array[i], true_label[i]\n",
    "    plt.grid(False)\n",
    "    plt.xticks([])\n",
    "    plt.yticks([])\n",
    "    thisplot = plt.bar(range(6), predictions_array, color=\"#777777\")\n",
    "    plt.ylim([0, 1]) \n",
    "    plt.xticks(np.arange(6), [\"NA\",*ALGORITHMS])\n",
    "    predicted_label = np.argmax(predictions_array)\n",
    "\n",
    "    thisplot[predicted_label].set_color('red')\n",
    "    thisplot[true_label].set_color('blue')"
   ]
  },
  {
   "cell_type": "markdown",
   "metadata": {},
   "source": [
    "### Reading outputs"
   ]
  },
  {
   "cell_type": "code",
   "execution_count": 4,
   "metadata": {
    "scrolled": true
   },
   "outputs": [
    {
     "name": "stdout",
     "output_type": "stream",
     "text": [
      "Faltan los siguientes resultados:\n"
     ]
    }
   ],
   "source": [
    "output_files = os.listdir(OUTPUT_PATH)\n",
    "alg_data = defaultdict(list)\n",
    "\n",
    "print(\"Faltan los siguientes resultados:\")\n",
    "for alg in ALGORITHMS:\n",
    "    alg_data[alg] = defaultdict(list)\n",
    "    for lvl in LEVELS:\n",
    "        filename = alg + \"_\" + str(lvl)\n",
    "        if filename not in output_files: # En caso de que todavía no hayan resultados\n",
    "            print(alg, lvl)\n",
    "            continue\n",
    "        alg_data[alg][lvl] = defaultdict(list)\n",
    "        file = open(OUTPUT_PATH+filename,'r')\n",
    "        for row in file:\n",
    "            id_, fo, time = row.split()\n",
    "            alg_data[alg][lvl][int(id_)].append([(float)(fo), (float)(time)])"
   ]
  },
  {
   "cell_type": "code",
   "execution_count": 105,
   "metadata": {},
   "outputs": [
    {
     "name": "stdout",
     "output_type": "stream",
     "text": [
      "Features:  [ 1.05132000e+05  6.20190000e+04  2.00002931e+00  1.99797043e+00\n",
      "  3.45401114e+00  4.78519113e-01  4.79146085e-01  4.80291897e-01\n",
      "  6.20150000e+04  1.29598000e+05  3.10090456e+04  3.10410000e+04\n",
      "  1.79556456e+04  2.00000000e+00  6.20170000e+04  6.48021046e+04\n",
      "  6.47840000e+04  3.73848606e+04  1.00000000e+00  1.29599000e+05\n",
      " -3.24874867e-03]\n",
      "greedy [[34786905.0, 0.019811]]\n",
      "bf [[-1.0, -1.0]]\n",
      "bnb [[1149655.0, 0.060707], [2109483.0, 0.065099], [3211855.0, 0.069291], [4155209.0, 0.073327], [5204743.0, 0.077353], [6266873.0, 0.081355], [7292631.0, 0.085223], [8004248.0, 0.089095], [8895013.0, 0.092969], [9699179.0, 0.096684], [10687140.0, 0.100405], [11623073.0, 0.104123], [12606337.0, 0.107726], [13531786.0, 0.111307], [14493556.0, 0.114888], [15425104.0, 0.118407], [16337223.0, 0.121858], [17212703.0, 0.125299], [18117885.0, 0.128768], [19117529.0, 0.132109], [19948997.0, 0.135444], [20727484.0, 0.138793], [21592562.0, 0.142105], [22642608.0, 0.145339], [23670397.0, 0.148559], [24398532.0, 0.151777], [25237716.0, 0.154955], [26293064.0, 0.158085], [27293273.0, 0.161206], [28400329.0, 0.164314], [29353533.0, 0.167367], [30312353.0, 0.170425], [31194268.0, 0.17346], [32046850.0, 0.176505], [32976646.0, 0.17945], [33901775.0, 0.182415], [34783883.0, 0.211453], [34784153.0, 0.213413], [34784919.0, 0.270266], [34785941.0, 0.308665], [34786211.0, 0.315732], [34786730.0, 0.335665], [34787109.0, 0.455254], [34787109.0, 0.493855]]\n",
      "BEST:  bnb\n"
     ]
    }
   ],
   "source": [
    "# comparing al ojo\n",
    "lvl_ = 6\n",
    "id_ = 33\n",
    "print(\"Features: \", get_features(lvl_, id_))\n",
    "for alg in ALGORITHMS:\n",
    "    if lvl_ in alg_data[alg]:\n",
    "        if id_ in alg_data[alg][lvl_]:\n",
    "            print(alg, alg_data[alg][lvl_][id_])\n",
    "    \n",
    "print('BEST: ',ALGORITHMS[get_best(lvl_,id_,1)])"
   ]
  },
  {
   "cell_type": "code",
   "execution_count": 6,
   "metadata": {},
   "outputs": [],
   "source": [
    "max_ = 0\n",
    "\n",
    "for alg in ALGORITHMS:\n",
    "    for lvl_ in alg_data[alg].keys():\n",
    "        for id_ in alg_data[alg][lvl].keys():\n",
    "            for res in alg_data[alg][lvl_][id_]:\n",
    "                a = res[1]\n",
    "                if  a > max_:\n",
    "                    max_ = a\n",
    "                    save = [alg, lvl_, id_]"
   ]
  },
  {
   "cell_type": "code",
   "execution_count": 9,
   "metadata": {},
   "outputs": [
    {
     "data": {
      "text/plain": [
       "['bnb', 4, 2321]"
      ]
     },
     "execution_count": 9,
     "metadata": {},
     "output_type": "execute_result"
    }
   ],
   "source": [
    "save"
   ]
  },
  {
   "cell_type": "code",
   "execution_count": 30,
   "metadata": {},
   "outputs": [
    {
     "name": "stdout",
     "output_type": "stream",
     "text": [
      "bf 2857\n",
      "dp1 1785\n",
      "greedy 2857\n",
      "bnb 2857\n",
      "cplex 0\n"
     ]
    }
   ],
   "source": [
    "for alg in ALGORITHMS:\n",
    "    print(alg, len(alg_data[alg][7]))"
   ]
  },
  {
   "cell_type": "code",
   "execution_count": 5,
   "metadata": {},
   "outputs": [
    {
     "name": "stdout",
     "output_type": "stream",
     "text": [
      "[0.         0.0073507  0.01475053 0.0221998  0.02969886 0.03724802\n",
      " 0.04484763 0.05249803 0.06019955 0.06795253 0.07575733 0.08361428\n",
      " 0.09152373 0.09948604 0.10750155 0.11557063 0.12369363 0.13187091\n",
      " 0.14010284 0.14838977 0.15673208 0.16513014 0.17358432 0.182095\n",
      " 0.19066254 0.19928734 0.20796978 0.21671023 0.22550909 0.23436675\n",
      " 0.2432836  0.25226003 0.26129646 0.27039326 0.27955086 0.28876965\n",
      " 0.29805004 0.30739245 0.31679729 0.32626498 0.33579594 0.34539059\n",
      " 0.35504935 0.36477265 0.37456094 0.38441463 0.39433417 0.40431999\n",
      " 0.41437255 0.42449228 0.43467963 0.44493507 0.45525903 0.46565198\n",
      " 0.47611439 0.4866467  0.49724941 0.50792296 0.51866783 0.52948451\n",
      " 0.54037348 0.5513352  0.56237018 0.5734789  0.58466185 0.59591954\n",
      " 0.60725245 0.61866109 0.63014597 0.6417076  0.65334649 0.66506315\n",
      " 0.67685811 0.68873189 0.70068502 0.71271802 0.72483143 0.73702579\n",
      " 0.74930164 0.76165952 0.77409998 0.78662358 0.79923086 0.81192239\n",
      " 0.82469873 0.83756045 0.85050812 0.8635423  0.87666359 0.88987257\n",
      " 0.90316981 0.9165559  0.93003145 0.94359705 0.95725331 0.97100081\n",
      " 0.98484019 0.99877205 1.012797   1.02691568 1.04112871 1.05543671\n",
      " 1.06984032 1.08434019 1.09893695 1.11363126 1.12842376 1.1433151\n",
      " 1.15830596 1.173397   1.18858888 1.20388228 1.21927787 1.23477635\n",
      " 1.2503784  1.2660847  1.28189596 1.29781288 1.31383617 1.32996653\n",
      " 1.34620468 1.36255134 1.37900723 1.39557309 1.41224966 1.42903766\n",
      " 1.44593785 1.46295097 1.48007778 1.49731905 1.51467552 1.53214798\n",
      " 1.5497372  1.56744396 1.58526904 1.60321324 1.62127735 1.63946217\n",
      " 1.65776851 1.67619718 1.694749   1.7134248  1.73222539 1.75115162\n",
      " 1.77020432 1.78938434 1.80869253 1.82812974 1.84769685 1.86739471\n",
      " 1.8872242  1.9071862  1.9272816  1.94751128 1.96787614 1.9883771\n",
      " 2.00901505 2.02979091 2.05070561 2.07176007 2.09295522 2.11429201\n",
      " 2.13577138 2.15739429 2.17916169 2.20107455 2.22313384 2.24534054\n",
      " 2.26769564 2.29020013 2.312855   2.33566126 2.35861992 2.381732\n",
      " 2.40499853 2.42842054 2.45199906 2.47573514 2.49962984 2.52368422\n",
      " 2.54789934 2.57227627 2.5968161  2.62151992 2.64638882 2.67142391\n",
      " 2.69662629 2.72199709 2.74753742 2.77324843 2.79913125 2.82518703\n",
      " 2.85141693 2.87782211 2.90440374 2.931163   2.95810107 2.98521916\n",
      " 3.01251847 3.0400002  3.06766558 3.09551583 3.12355219 3.1517759\n",
      " 3.18018821 3.20879039 3.2375837  3.26656943 3.29574884 3.32512325\n",
      " 3.35469395 3.38446226 3.41442949 3.44459697 3.47496605 3.50553807\n",
      " 3.53631439 3.56729636 3.59848537 3.62988281 3.66149005 3.69330851\n",
      " 3.72533959 3.75758472 3.79004533 3.82272285 3.85561874 3.88873445\n",
      " 3.92207146 3.95563124 3.98941529 4.02342509 4.05766217 4.09212803\n",
      " 4.1268242  4.16175224 4.19691368 4.23231008 4.26794302 4.30381407\n",
      " 4.33992483 4.3762769  4.41287189 4.44971143 4.48679714 4.52413068\n",
      " 4.5617137  4.59954786 4.63763485 4.67597636]\n"
     ]
    }
   ],
   "source": [
    "timesteps = np.logspace(1, 18.4, num=250, base=1.1)-1.1 # escala logaritmica para los tiempos\n",
    "print(timesteps)"
   ]
  },
  {
   "cell_type": "code",
   "execution_count": null,
   "metadata": {},
   "outputs": [
    {
     "name": "stdout",
     "output_type": "stream",
     "text": [
      "level 1...\n",
      "level 2...\n",
      "level 3...\n"
     ]
    }
   ],
   "source": [
    "train_data = []\n",
    "train_label = []\n",
    "\n",
    "count = 0\n",
    "\n",
    "for lvl in LEVELS:\n",
    "    print(\"level \"+str(lvl)+\"...\")\n",
    "    for id_ in range(LEVELS_SIZE[lvl-1]):\n",
    "        fts = get_features(lvl, id_)\n",
    "        for t in timesteps:\n",
    "            train_data.append([*fts, t+1])\n",
    "            train_label.append(get_best(lvl, id_, t))\n",
    "        count += 1"
   ]
  },
  {
   "cell_type": "markdown",
   "metadata": {},
   "source": [
    "#### Standard Scale: mean=0 and std=1"
   ]
  },
  {
   "cell_type": "code",
   "execution_count": null,
   "metadata": {},
   "outputs": [],
   "source": [
    "from sklearn.preprocessing import StandardScaler\n",
    "scaler = StandardScaler()\n",
    "strain_data = scaler.fit_transform(train_data)"
   ]
  },
  {
   "cell_type": "markdown",
   "metadata": {},
   "source": [
    "#### or... between 0 and 1"
   ]
  },
  {
   "cell_type": "code",
   "execution_count": 7,
   "metadata": {},
   "outputs": [],
   "source": [
    "from sklearn.preprocessing import MinMaxScaler\n",
    "min_max_scaler = MinMaxScaler()\n",
    "strain_data = min_max_scaler.fit_transform(train_data)"
   ]
  },
  {
   "cell_type": "markdown",
   "metadata": {},
   "source": [
    "## NN"
   ]
  },
  {
   "cell_type": "code",
   "execution_count": 6,
   "metadata": {},
   "outputs": [
    {
     "name": "stderr",
     "output_type": "stream",
     "text": [
      "/home/miguel/anaconda3/lib/python3.6/site-packages/h5py/__init__.py:36: FutureWarning: Conversion of the second argument of issubdtype from `float` to `np.floating` is deprecated. In future, it will be treated as `np.float64 == np.dtype(float).type`.\n",
      "  from ._conv import register_converters as _register_converters\n",
      "Using TensorFlow backend.\n"
     ]
    }
   ],
   "source": [
    "import tensorflow as tf\n",
    "from keras.layers import Dropout, Dense\n",
    "from keras import Sequential\n",
    "from keras import optimizers\n",
    "from keras.models import Model   \n",
    "from keras.layers import *\n",
    "import keras\n",
    "# Helper libraries\n",
    "import matplotlib.pyplot as plt\n",
    "import sklearn\n",
    "from sklearn.model_selection import train_test_split"
   ]
  },
  {
   "cell_type": "markdown",
   "metadata": {},
   "source": [
    "### Train and Test set"
   ]
  },
  {
   "cell_type": "code",
   "execution_count": 43,
   "metadata": {},
   "outputs": [],
   "source": [
    "X_train, X_test, y_train, y_test = train_test_split(strain_data, train_label, test_size=0.3, random_state=42)"
   ]
  },
  {
   "cell_type": "markdown",
   "metadata": {},
   "source": [
    "### Saving"
   ]
  },
  {
   "cell_type": "code",
   "execution_count": 44,
   "metadata": {},
   "outputs": [],
   "source": [
    "with open('X_train.csv', 'w') as FOUT:\n",
    "    np.savetxt(FOUT, X_train)\n",
    "with open('X_test.csv', 'w') as FOUT:\n",
    "    np.savetxt(FOUT, X_test)\n",
    "with open('y_train.csv', 'w') as FOUT:\n",
    "    np.savetxt(FOUT, y_train)\n",
    "with open('y_test.csv', 'w') as FOUT:\n",
    "    np.savetxt(FOUT, y_test)"
   ]
  },
  {
   "cell_type": "markdown",
   "metadata": {},
   "source": [
    "### Loading"
   ]
  },
  {
   "cell_type": "markdown",
   "metadata": {},
   "source": [
    "##### Train set"
   ]
  },
  {
   "cell_type": "code",
   "execution_count": 7,
   "metadata": {},
   "outputs": [],
   "source": [
    "y_train = np.loadtxt('y_train.csv', dtype=float)\n",
    "X_train = np.loadtxt('X_train.csv', dtype=float)"
   ]
  },
  {
   "cell_type": "markdown",
   "metadata": {},
   "source": [
    "###### Test set"
   ]
  },
  {
   "cell_type": "code",
   "execution_count": 8,
   "metadata": {},
   "outputs": [],
   "source": [
    "X_test = np.loadtxt('X_test.csv', dtype=float)\n",
    "y_test = np.loadtxt('y_test.csv', dtype=float)"
   ]
  },
  {
   "cell_type": "markdown",
   "metadata": {},
   "source": [
    "### Model"
   ]
  },
  {
   "cell_type": "code",
   "execution_count": 9,
   "metadata": {},
   "outputs": [],
   "source": [
    "model = Sequential([\n",
    "    Dense(128, input_shape = (22,), activation='relu'),\n",
    "    Dense(64, activation='relu'),\n",
    "    Dropout(0.5), \n",
    "    Dense(64, activation='relu'),\n",
    "    Dropout(0.5), \n",
    "    Dense(64, activation='relu'),\n",
    "    Dropout(0.5), \n",
    "    Dense(6, activation='softmax')\n",
    "])"
   ]
  },
  {
   "cell_type": "code",
   "execution_count": 10,
   "metadata": {},
   "outputs": [],
   "source": [
    "from keras import backend as K\n",
    "\n",
    "def f1(y_true, y_pred):\n",
    "    def recall(y_true, y_pred):\n",
    "        \"\"\"Recall metric.\n",
    "\n",
    "        Only computes a batch-wise average of recall.\n",
    "\n",
    "        Computes the recall, a metric for multi-label classification of\n",
    "        how many relevant items are selected.\n",
    "        \"\"\"\n",
    "        true_positives = K.sum(K.round(K.clip(y_true * y_pred, 0, 1)))\n",
    "        possible_positives = K.sum(K.round(K.clip(y_true, 0, 1)))\n",
    "        recall = true_positives / (possible_positives + K.epsilon())\n",
    "        return recall\n",
    "\n",
    "    def precision(y_true, y_pred):\n",
    "        \"\"\"Precision metric.\n",
    "\n",
    "        Only computes a batch-wise average of precision.\n",
    "\n",
    "        Computes the precision, a metric for multi-label classification of\n",
    "        how many selected items are relevant.\n",
    "        \"\"\"\n",
    "        true_positives = K.sum(K.round(K.clip(y_true * y_pred, 0, 1)))\n",
    "        predicted_positives = K.sum(K.round(K.clip(y_pred, 0, 1)))\n",
    "        precision = true_positives / (predicted_positives + K.epsilon())\n",
    "        return precision\n",
    "    precision = precision(y_true, y_pred)\n",
    "    recall = recall(y_true, y_pred)\n",
    "    return 2*((precision*recall)/(precision+recall+K.epsilon()))"
   ]
  },
  {
   "cell_type": "code",
   "execution_count": 11,
   "metadata": {},
   "outputs": [],
   "source": [
    "model.compile(optimizer='adam',\n",
    "              loss='categorical_crossentropy',\n",
    "              metrics=['accuracy',f1])"
   ]
  },
  {
   "cell_type": "code",
   "execution_count": 12,
   "metadata": {},
   "outputs": [
    {
     "name": "stdout",
     "output_type": "stream",
     "text": [
      "Train on 5900947 samples, validate on 2528978 samples\n",
      "Epoch 1/10\n",
      "5900947/5900947 [==============================] - 202s 34us/step - loss: 0.8397 - acc: 0.5957 - f1: 0.5628 - val_loss: 0.7993 - val_acc: 0.6065 - val_f1: 0.5780\n",
      "Epoch 2/10\n",
      "5900947/5900947 [==============================] - 201s 34us/step - loss: 0.8269 - acc: 0.6026 - f1: 0.5767 - val_loss: 0.7905 - val_acc: 0.6094 - val_f1: 0.5941\n",
      "Epoch 3/10\n",
      "5900947/5900947 [==============================] - 201s 34us/step - loss: 0.8231 - acc: 0.6042 - f1: 0.5796 - val_loss: 0.7826 - val_acc: 0.6206 - val_f1: 0.5882\n",
      "Epoch 4/10\n",
      "5900947/5900947 [==============================] - 201s 34us/step - loss: 0.8214 - acc: 0.6042 - f1: 0.5793 - val_loss: 0.7838 - val_acc: 0.6080 - val_f1: 0.5931\n",
      "Epoch 5/10\n",
      "5900947/5900947 [==============================] - 201s 34us/step - loss: 0.8192 - acc: 0.6040 - f1: 0.5761 - val_loss: 0.7914 - val_acc: 0.6080 - val_f1: 0.5767\n",
      "Epoch 6/10\n",
      "5900947/5900947 [==============================] - 201s 34us/step - loss: 0.8193 - acc: 0.6030 - f1: 0.5739 - val_loss: 0.7820 - val_acc: 0.6117 - val_f1: 0.5899\n",
      "Epoch 7/10\n",
      "5900947/5900947 [==============================] - 201s 34us/step - loss: 0.8195 - acc: 0.6037 - f1: 0.5749 - val_loss: 0.7806 - val_acc: 0.6117 - val_f1: 0.5864\n",
      "Epoch 8/10\n",
      "5900947/5900947 [==============================] - 201s 34us/step - loss: 0.8196 - acc: 0.6040 - f1: 0.5750 - val_loss: 0.7780 - val_acc: 0.6184 - val_f1: 0.5952\n",
      "Epoch 9/10\n",
      "5900947/5900947 [==============================] - 201s 34us/step - loss: 0.8233 - acc: 0.6035 - f1: 0.5750 - val_loss: 0.7872 - val_acc: 0.6098 - val_f1: 0.5822\n",
      "Epoch 10/10\n",
      "5900947/5900947 [==============================] - 201s 34us/step - loss: 0.8255 - acc: 0.6025 - f1: 0.5740 - val_loss: 0.7874 - val_acc: 0.6002 - val_f1: 0.5712\n"
     ]
    }
   ],
   "source": [
    "from keras.utils.np_utils import to_categorical\n",
    "history = model.fit(X_train,to_categorical(y_train), \n",
    "                    epochs=10,\n",
    "                    validation_split=0.3)"
   ]
  },
  {
   "cell_type": "code",
   "execution_count": 16,
   "metadata": {},
   "outputs": [
    {
     "data": {
      "image/png": "[encoded data removed]",
      "text/plain": [
       "<Figure size 432x288 with 1 Axes>"
      ]
     },
     "metadata": {},
     "output_type": "display_data"
    }
   ],
   "source": [
    "plt.plot(history.history['acc'])\n",
    "plt.plot(history.history['val_acc'])\n",
    "plt.title('model accuracy')\n",
    "plt.ylabel('accuracy')\n",
    "plt.xlabel('epoch')\n",
    "plt.legend(['train', 'test'], loc='upper left')\n",
    "plt.show()"
   ]
  },
  {
   "cell_type": "code",
   "execution_count": 17,
   "metadata": {},
   "outputs": [
    {
     "data": {
      "image/png": "[encoded data removed]",
      "text/plain": [
       "<Figure size 432x288 with 1 Axes>"
      ]
     },
     "metadata": {},
     "output_type": "display_data"
    }
   ],
   "source": [
    "plt.plot(history.history['loss'])\n",
    "plt.plot(history.history['val_loss'])\n",
    "plt.title('model loss')\n",
    "plt.ylabel('loss')\n",
    "plt.xlabel('epoch')\n",
    "plt.legend(['train', 'test'], loc='upper left')\n",
    "plt.show()"
   ]
  },
  {
   "cell_type": "code",
   "execution_count": 9,
   "metadata": {},
   "outputs": [],
   "source": [
    "from sklearn.metrics import f1_score\n",
    "\n",
    "from sklearn.ensemble import ExtraTreesClassifier\n",
    "from sklearn.ensemble import RandomForestClassifier\n",
    "from sklearn.neighbors import KNeighborsClassifier"
   ]
  },
  {
   "cell_type": "code",
   "execution_count": 26,
   "metadata": {},
   "outputs": [
    {
     "name": "stderr",
     "output_type": "stream",
     "text": [
      "[Parallel(n_jobs=-1)]: Done  34 tasks      | elapsed:  6.0min\n",
      "[Parallel(n_jobs=-1)]: Done 184 tasks      | elapsed: 27.8min\n",
      "[Parallel(n_jobs=-1)]: Done 200 out of 200 | elapsed: 30.0min finished\n"
     ]
    },
    {
     "data": {
      "text/plain": [
       "ExtraTreesClassifier(bootstrap=False, class_weight=None, criterion='gini',\n",
       "           max_depth=None, max_features='auto', max_leaf_nodes=None,\n",
       "           min_impurity_decrease=0.0, min_impurity_split=None,\n",
       "           min_samples_leaf=1, min_samples_split=2,\n",
       "           min_weight_fraction_leaf=0.0, n_estimators=200, n_jobs=-1,\n",
       "           oob_score=False, random_state=0, verbose=1, warm_start=False)"
      ]
     },
     "execution_count": 26,
     "metadata": {},
     "output_type": "execute_result"
    }
   ],
   "source": [
    "forest = ExtraTreesClassifier(n_estimators=200,\n",
    "                              random_state=0,\n",
    "                             n_jobs=-1,\n",
    "                             verbose=1)\n",
    "forest.fit(X_train, y_train)\n"
   ]
  },
  {
   "cell_type": "code",
   "execution_count": 27,
   "metadata": {},
   "outputs": [
    {
     "name": "stderr",
     "output_type": "stream",
     "text": [
      "[Parallel(n_jobs=8)]: Done  34 tasks      | elapsed:  2.9min\n",
      "[Parallel(n_jobs=8)]: Done 184 tasks      | elapsed:  4.5min\n",
      "[Parallel(n_jobs=8)]: Done 200 out of 200 | elapsed:  4.6min finished\n"
     ]
    },
    {
     "data": {
      "text/plain": [
       "0.9932465591330883"
      ]
     },
     "execution_count": 27,
     "metadata": {},
     "output_type": "execute_result"
    }
   ],
   "source": [
    "forest.score(X_test, y_test)"
   ]
  },
  {
   "cell_type": "code",
   "execution_count": 28,
   "metadata": {},
   "outputs": [
    {
     "name": "stderr",
     "output_type": "stream",
     "text": [
      "[Parallel(n_jobs=8)]: Done  34 tasks      | elapsed:   18.9s\n",
      "[Parallel(n_jobs=8)]: Done 184 tasks      | elapsed:  1.5min\n",
      "[Parallel(n_jobs=8)]: Done 200 out of 200 | elapsed:  1.6min finished\n"
     ]
    }
   ],
   "source": [
    "pred_eforest = forest.predict(X_test)"
   ]
  },
  {
   "cell_type": "code",
   "execution_count": 29,
   "metadata": {},
   "outputs": [
    {
     "data": {
      "text/plain": [
       "0.9738763754606931"
      ]
     },
     "execution_count": 29,
     "metadata": {},
     "output_type": "execute_result"
    }
   ],
   "source": [
    "f1_score(y_test, pred_eforest, average='macro') "
   ]
  },
  {
   "cell_type": "code",
   "execution_count": 30,
   "metadata": {},
   "outputs": [
    {
     "name": "stdout",
     "output_type": "stream",
     "text": [
      "Feature ranking:\n",
      "1. feature 15 (0.071985)\n",
      "2. feature 0 (0.061821)\n",
      "3. feature 16 (0.060950)\n",
      "4. feature 17 (0.059177)\n",
      "5. feature 9 (0.059026)\n",
      "6. feature 19 (0.057418)\n",
      "7. feature 21 (0.051826)\n",
      "8. feature 10 (0.051684)\n",
      "9. feature 14 (0.050743)\n",
      "10. feature 12 (0.049984)\n",
      "11. feature 11 (0.049175)\n",
      "12. feature 8 (0.046596)\n",
      "13. feature 1 (0.045740)\n",
      "14. feature 20 (0.035875)\n",
      "15. feature 4 (0.034297)\n",
      "16. feature 2 (0.033490)\n",
      "17. feature 7 (0.033187)\n",
      "18. feature 6 (0.033168)\n",
      "19. feature 5 (0.033035)\n",
      "20. feature 3 (0.032621)\n",
      "21. feature 18 (0.027927)\n",
      "22. feature 13 (0.020278)\n"
     ]
    }
   ],
   "source": [
    "importances = forest.feature_importances_\n",
    "std = np.std([tree.feature_importances_ for tree in forest.estimators_],\n",
    "             axis=0)\n",
    "indices = np.argsort(importances)[::-1]\n",
    "\n",
    "# Print the feature ranking\n",
    "print(\"Feature ranking:\")\n",
    "\n",
    "for f in range(X_train.shape[1]):\n",
    "    print(\"%d. feature %d (%f)\" % (f + 1, indices[f], importances[indices[f]]))"
   ]
  },
  {
   "cell_type": "code",
   "execution_count": 38,
   "metadata": {},
   "outputs": [
    {
     "data": {
      "image/png": "[encoded data removed]",
      "text/plain": [
       "<Figure size 432x288 with 1 Axes>"
      ]
     },
     "metadata": {},
     "output_type": "display_data"
    }
   ],
   "source": [
    "# Plot the feature importances of the forest\n",
    "a = plt.figure()\n",
    "plt.title(\"Feature importances based on ExtraTrees\")\n",
    "plt.bar(range(X_train.shape[1]), importances[indices], color=\"#a82296\", yerr=std[indices], align=\"center\",\n",
    "        error_kw=dict(ecolor='#f89441', lw=2))\n",
    "FEATURES.append('time')\n",
    "names = [FEATURES[i] for i in indices]\n",
    "    \n",
    "plt.xticks(range(X_train.shape[1]), names,rotation=90)\n",
    "plt.xlim([-1, X_train.shape[1]])\n",
    "plt.xlabel(\"Feature\")\n",
    "plt.ylabel(\"Percentage of importance\")\n",
    "plt.show()\n",
    "a.savefig(\"feat_importance\", bbox_inches = 'tight', dpi=300)"
   ]
  },
  {
   "cell_type": "code",
   "execution_count": 40,
   "metadata": {},
   "outputs": [
    {
     "name": "stderr",
     "output_type": "stream",
     "text": [
      "[Parallel(n_jobs=-1)]: Done  34 tasks      | elapsed:  3.8min\n",
      "[Parallel(n_jobs=-1)]: Done 184 tasks      | elapsed: 12.8min\n",
      "[Parallel(n_jobs=-1)]: Done 250 out of 250 | elapsed: 16.7min finished\n"
     ]
    }
   ],
   "source": [
    "clf = RandomForestClassifier(n_estimators=250, max_depth=3, random_state=0, n_jobs=-1 ,verbose=1)\n",
    "h = clf.fit(X_train, y_train)"
   ]
  },
  {
   "cell_type": "code",
   "execution_count": 41,
   "metadata": {},
   "outputs": [
    {
     "name": "stderr",
     "output_type": "stream",
     "text": [
      "[Parallel(n_jobs=8)]: Done  34 tasks      | elapsed:    5.0s\n",
      "[Parallel(n_jobs=8)]: Done 184 tasks      | elapsed:   20.4s\n",
      "[Parallel(n_jobs=8)]: Done 250 out of 250 | elapsed:   27.1s finished\n"
     ]
    },
    {
     "data": {
      "text/plain": [
       "0.6113664514611142"
      ]
     },
     "execution_count": 41,
     "metadata": {},
     "output_type": "execute_result"
    }
   ],
   "source": [
    "clf.score(X_test, y_test)"
   ]
  },
  {
   "cell_type": "code",
   "execution_count": 42,
   "metadata": {},
   "outputs": [
    {
     "name": "stderr",
     "output_type": "stream",
     "text": [
      "[Parallel(n_jobs=8)]: Done  34 tasks      | elapsed:    3.7s\n",
      "[Parallel(n_jobs=8)]: Done 184 tasks      | elapsed:   19.6s\n",
      "[Parallel(n_jobs=8)]: Done 250 out of 250 | elapsed:   26.2s finished\n"
     ]
    }
   ],
   "source": [
    "rf_pred = clf.predict(X_test)"
   ]
  },
  {
   "cell_type": "code",
   "execution_count": 43,
   "metadata": {},
   "outputs": [
    {
     "name": "stderr",
     "output_type": "stream",
     "text": [
      "/home/miguel/anaconda3/lib/python3.6/site-packages/sklearn/metrics/classification.py:1135: UndefinedMetricWarning: F-score is ill-defined and being set to 0.0 in labels with no predicted samples.\n",
      "  'precision', 'predicted', average, warn_for)\n"
     ]
    },
    {
     "data": {
      "text/plain": [
       "0.3611583994394997"
      ]
     },
     "execution_count": 43,
     "metadata": {},
     "output_type": "execute_result"
    }
   ],
   "source": [
    "f1_score(y_test, rf_pred, average='macro') "
   ]
  },
  {
   "cell_type": "code",
   "execution_count": 10,
   "metadata": {},
   "outputs": [
    {
     "data": {
      "text/plain": [
       "KNeighborsClassifier(algorithm='auto', leaf_size=30, metric='minkowski',\n",
       "           metric_params=None, n_jobs=-1, n_neighbors=3, p=2,\n",
       "           weights='uniform')"
      ]
     },
     "execution_count": 10,
     "metadata": {},
     "output_type": "execute_result"
    }
   ],
   "source": [
    "neigh = KNeighborsClassifier(n_neighbors=3, n_jobs=-1)\n",
    "neigh.fit(X_train, y_train) "
   ]
  },
  {
   "cell_type": "code",
   "execution_count": 11,
   "metadata": {},
   "outputs": [
    {
     "data": {
      "text/plain": [
       "0.9911728356618436"
      ]
     },
     "execution_count": 11,
     "metadata": {},
     "output_type": "execute_result"
    }
   ],
   "source": [
    "neigh.score(X_test, y_test)"
   ]
  },
  {
   "cell_type": "code",
   "execution_count": 12,
   "metadata": {},
   "outputs": [],
   "source": [
    "neigh_pred = neigh.predict(X_test)"
   ]
  },
  {
   "cell_type": "code",
   "execution_count": 13,
   "metadata": {},
   "outputs": [
    {
     "data": {
      "text/plain": [
       "0.9706363954754993"
      ]
     },
     "execution_count": 13,
     "metadata": {},
     "output_type": "execute_result"
    }
   ],
   "source": [
    "f1_score(y_test, neigh_pred, average='macro') "
   ]
  },
  {
   "cell_type": "code",
   "execution_count": null,
   "metadata": {},
   "outputs": [],
   "source": [
    "from sklearn.ensemble import BaggingClassifier\n",
    "from sklearn.neighbors import KNeighborsClassifier\n",
    "bagging = BaggingClassifier(KNeighborsClassifier(), max_samples=0.5, max_features=0.5)"
   ]
  },
  {
   "cell_type": "code",
   "execution_count": 20,
   "metadata": {},
   "outputs": [
    {
     "name": "stdout",
     "output_type": "stream",
     "text": [
      "      Iter       Train Loss   Remaining Time \n",
      "         1    11769546.1728           29.44m\n",
      "         2    10948836.0007           26.34m\n",
      "         3    10291299.3848           23.11m\n",
      "         4     9750102.9670           19.83m\n",
      "         5     9305760.7297           16.54m\n",
      "         6     8925915.2939           13.25m\n",
      "         7     8604627.0481            9.93m\n",
      "         8     8327857.6696            6.62m\n",
      "         9     8090135.1863            3.33m\n",
      "        10     7886252.9461            0.00s\n"
     ]
    }
   ],
   "source": [
    "from sklearn.ensemble import GradientBoostingClassifier\n",
    "\n",
    "gb = GradientBoostingClassifier(n_estimators=10,verbose=1)\n",
    "h = gb.fit(X_train, y_train)"
   ]
  },
  {
   "cell_type": "code",
   "execution_count": 21,
   "metadata": {},
   "outputs": [
    {
     "data": {
      "text/plain": [
       "0.6317247583262405"
      ]
     },
     "execution_count": 21,
     "metadata": {},
     "output_type": "execute_result"
    }
   ],
   "source": [
    "gb.score(X_test, y_test)"
   ]
  },
  {
   "cell_type": "code",
   "execution_count": 22,
   "metadata": {},
   "outputs": [],
   "source": [
    "gb_pred = gb.predict(X_test)"
   ]
  },
  {
   "cell_type": "code",
   "execution_count": 23,
   "metadata": {},
   "outputs": [
    {
     "data": {
      "text/plain": [
       "0.4380319530076873"
      ]
     },
     "execution_count": 23,
     "metadata": {},
     "output_type": "execute_result"
    }
   ],
   "source": [
    "f1_score(y_test, gb_pred, average='macro') "
   ]
  },
  {
   "cell_type": "code",
   "execution_count": null,
   "metadata": {},
   "outputs": [
    {
     "ename": "KeyboardInterrupt",
     "evalue": "",
     "output_type": "error",
     "traceback": [
      "\u001b[0;31m---------------------------------------------------------------------------\u001b[0m",
      "\u001b[0;31mKeyboardInterrupt\u001b[0m                         Traceback (most recent call last)",
      "\u001b[0;32m~/anaconda3/lib/python3.6/site-packages/zmq/backend/cython/checkrc.pxd\u001b[0m in \u001b[0;36mzmq.backend.cython.checkrc._check_rc\u001b[0;34m()\u001b[0m\n",
      "\u001b[0;31mKeyboardInterrupt\u001b[0m: "
     ]
    },
    {
     "name": "stderr",
     "output_type": "stream",
     "text": [
      "Exception ignored in: 'zmq.backend.cython.message.Frame.__dealloc__'\n",
      "Traceback (most recent call last):\n",
      "  File \"zmq/backend/cython/checkrc.pxd\", line 12, in zmq.backend.cython.checkrc._check_rc\n",
      "KeyboardInterrupt\n"
     ]
    }
   ],
   "source": [
    "from sklearn.gaussian_process import GaussianProcessClassifier\n",
    "from sklearn.gaussian_process.kernels import RBF\n",
    "kernel = 1.0 * RBF(1.0)\n",
    "gpc = GaussianProcessClassifier(kernel=kernel,random_state=0, n_jobs=-1).fit(X_train, y_train)\n"
   ]
  },
  {
   "cell_type": "code",
   "execution_count": null,
   "metadata": {},
   "outputs": [],
   "source": [
    "gpc.score(X, y) "
   ]
  },
  {
   "cell_type": "code",
   "execution_count": null,
   "metadata": {},
   "outputs": [],
   "source": [
    "y_pred = model.predict(X_test)\n",
    "predictions = [round(value) for value in y_pred]"
   ]
  },
  {
   "cell_type": "code",
   "execution_count": null,
   "metadata": {},
   "outputs": [],
   "source": [
    "from sklearn.metrics import accuracy_score\n",
    "acc = accuracy_score(y_test, predictions)\n",
    "print(\"Accuracy: %.2f%%\" % (acc * 100.0))"
   ]
  },
  {
   "cell_type": "code",
   "execution_count": null,
   "metadata": {},
   "outputs": [],
   "source": [
    "f1_score(y_test, predictions, average='macro') "
   ]
  },
  {
   "cell_type": "markdown",
   "metadata": {},
   "source": [
    "### Evaluate Accuracy (test set)"
   ]
  },
  {
   "cell_type": "code",
   "execution_count": 177,
   "metadata": {},
   "outputs": [
    {
     "name": "stdout",
     "output_type": "stream",
     "text": [
      "1336050/1336050 [==============================] - 14s 10us/step\n",
      "Test accuracy: 0.6602537330188846\n"
     ]
    }
   ],
   "source": [
    "test_loss, test_acc = model.evaluate(np.array(X_test), np.array(y_test))\n",
    "\n",
    "print('Test accuracy:', test_acc)"
   ]
  },
  {
   "cell_type": "markdown",
   "metadata": {},
   "source": [
    "### Individual Predictions"
   ]
  },
  {
   "cell_type": "code",
   "execution_count": 178,
   "metadata": {},
   "outputs": [],
   "source": [
    "pred = model.predict(np.array(X_test))"
   ]
  },
  {
   "cell_type": "code",
   "execution_count": null,
   "metadata": {},
   "outputs": [],
   "source": [
    "# rojo predicho\n",
    "# azul verdadero\n",
    "i = 5\n",
    "print(X_test[i])\n",
    "print(pred[:10])\n",
    "print(y_test[:10])\n",
    "plt.figure()\n",
    "plot_value_array(i, pred,  np.array(y_test, dtype=int))"
   ]
  },
  {
   "cell_type": "markdown",
   "metadata": {},
   "source": [
    "### Confusion matrix"
   ]
  },
  {
   "cell_type": "code",
   "execution_count": 32,
   "metadata": {},
   "outputs": [],
   "source": [
    "#best_predictions = np.argmax(pred,axis=1)\n",
    "\n",
    "cm = sklearn.metrics.confusion_matrix(y_test, pred_eforest)"
   ]
  },
  {
   "cell_type": "code",
   "execution_count": 36,
   "metadata": {},
   "outputs": [],
   "source": [
    "cm = cm.astype('float') / cm.sum(axis=1)[:, np.newaxis]"
   ]
  },
  {
   "cell_type": "code",
   "execution_count": 37,
   "metadata": {},
   "outputs": [
    {
     "data": {
      "image/png": "[encoded data removed]",
      "text/plain": [
       "<Figure size 432x288 with 2 Axes>"
      ]
     },
     "metadata": {},
     "output_type": "display_data"
    }
   ],
   "source": [
    "fig = plt.figure()\n",
    "ax = fig.add_subplot(111)\n",
    "cax = ax.matshow(cm, cmap=\"magma_r\")\n",
    "plt.title('Normalized Confusion matrix of Extra-trees')\n",
    "fig.colorbar(cax)\n",
    "ax.set_xticklabels(['NA', *ALGORITHMS])\n",
    "ax.set_yticklabels(['NA', *ALGORITHMS])\n",
    "plt.xlabel('Predicted')\n",
    "plt.ylabel('True')\n",
    "plt.show()\n",
    "fig.savefig(\"ncm\", bbox_inches = 'tight',dpi=300)"
   ]
  },
  {
   "cell_type": "code",
   "execution_count": 36,
   "metadata": {},
   "outputs": [
    {
     "data": {
      "text/plain": [
       "<matplotlib.image.AxesImage at 0x7f6247f5e048>"
      ]
     },
     "execution_count": 36,
     "metadata": {},
     "output_type": "execute_result"
    },
    {
     "data": {
      "image/png": "[encoded data removed]",
      "text/plain": [
       "<Figure size 432x288 with 1 Axes>"
      ]
     },
     "metadata": {},
     "output_type": "display_data"
    }
   ],
   "source": [
    "fig, ax = plt.subplots()\n",
    "\n",
    "ax.matshow(cm, cmap=plt.cm.Blues)"
   ]
  },
  {
   "cell_type": "code",
   "execution_count": 26,
   "metadata": {},
   "outputs": [
    {
     "data": {
      "text/plain": [
       "{0, 1, 3, 4}"
      ]
     },
     "execution_count": 26,
     "metadata": {},
     "output_type": "execute_result"
    }
   ],
   "source": [
    "set(y_test)"
   ]
  },
  {
   "cell_type": "code",
   "execution_count": null,
   "metadata": {},
   "outputs": [],
   "source": [
    "sample = np.array(X_test[0])\n",
    "sample = (np.expand_dims(sample,0))\n",
    "predictions_single = model.predict(sample)\n",
    "\n",
    "print(predictions_single)"
   ]
  },
  {
   "cell_type": "code",
   "execution_count": null,
   "metadata": {},
   "outputs": [],
   "source": [
    "y_test[0]"
   ]
  },
  {
   "cell_type": "code",
   "execution_count": null,
   "metadata": {},
   "outputs": [],
   "source": []
  }
 ],
 "metadata": {
  "kernelspec": {
   "display_name": "Python 3",
   "language": "python",
   "name": "python3"
  },
  "language_info": {
   "codemirror_mode": {
    "name": "ipython",
    "version": 3
   },
   "file_extension": ".py",
   "mimetype": "text/x-python",
   "name": "python",
   "nbconvert_exporter": "python",
   "pygments_lexer": "ipython3",
   "version": "3.6.5"
  }
 },
 "nbformat": 4,
 "nbformat_minor": 2
}
