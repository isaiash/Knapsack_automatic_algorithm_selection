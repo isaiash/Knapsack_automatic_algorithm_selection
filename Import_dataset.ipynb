{
 "cells": [
  {
   "cell_type": "code",
   "execution_count": 1,
   "metadata": {},
   "outputs": [],
   "source": [
    "import numpy as np\n",
    "import pandas as pd\n",
    "import os\n",
    "from collections import defaultdict"
   ]
  },
  {
   "cell_type": "markdown",
   "metadata": {},
   "source": [
    "### Globals"
   ]
  },
  {
   "cell_type": "code",
   "execution_count": 2,
   "metadata": {},
   "outputs": [],
   "source": [
    "OUTPUT_PATH = 'outputs/'\n",
    "FEATURES_PATH = 'features/'\n",
    "ALGORITHMS = ['dp1', 'dp2', 'greedy', 'bf', 'bnb', 'cplex']\n",
    "LEVELS = [1,2,3,4,5,6]\n",
    "LEVELS_SIZE = [19198 ,9983, 6664, 4994, 3999, 3333]\n",
    "FEATURES = ['num_elem',\n",
    "            'cap',\n",
    "            'cap_mean_w',\n",
    "            'cap_median_w', \n",
    "            'cap_desv_w', \n",
    "            'mean_w_mean_v',\n",
    "            'median_w_median_v', \n",
    "            'desv_w_desv_v',\n",
    "            'max_w_min_w',\n",
    "            'max_v_min_v',\n",
    "            'mean_w',\n",
    "            'median_w', \n",
    "            'desv_w', \n",
    "            'min_w', \n",
    "            'max_w', \n",
    "            'mean_v', \n",
    "            'median_v', \n",
    "            'desv_v', \n",
    "            'min_v', \n",
    "            'max_v',\n",
    "            'p_coef' \n",
    "           ]"
   ]
  },
  {
   "cell_type": "markdown",
   "metadata": {},
   "source": [
    "### Helpers"
   ]
  },
  {
   "cell_type": "code",
   "execution_count": 3,
   "metadata": {},
   "outputs": [],
   "source": [
    "def get_features(lvl, id_):\n",
    "    return np.array(open(FEATURES_PATH +str(lvl)+'/'+ str(id_),'r').read().split(), dtype=float)\n",
    "\n",
    "def get_best(lvl, id_, t):\n",
    "    best_fo = 0\n",
    "    best_alg = 0\n",
    "    best_time = 1000000\n",
    "    for alg in ALGORITHMS:\n",
    "        if lvl not in list(alg_data[alg].keys()): continue\n",
    "        for res in alg_data[alg][lvl][id_]:\n",
    "            if res[1] < t and res[0] >= best_fo:\n",
    "                if res[1] < best_time:\n",
    "                    best_alg = ALGORITHMS.index(alg)+1\n",
    "                    best_time = res[1]\n",
    "    return best_alg\n",
    "\n",
    "def plot_value_array(i, predictions_array, true_label):\n",
    "    predictions_array, true_label = predictions_array[i], true_label[i]\n",
    "    plt.grid(False)\n",
    "    plt.xticks([])\n",
    "    plt.yticks([])\n",
    "    thisplot = plt.bar(range(7), predictions_array, color=\"#777777\")\n",
    "    plt.ylim([0, 1]) \n",
    "    plt.xticks(np.arange(7), ('NO', *ALGORITHMS))\n",
    "    predicted_label = np.argmax(predictions_array)\n",
    "\n",
    "    thisplot[predicted_label].set_color('red')\n",
    "    thisplot[true_label].set_color('blue')"
   ]
  },
  {
   "cell_type": "markdown",
   "metadata": {},
   "source": [
    "### Reading outputs"
   ]
  },
  {
   "cell_type": "code",
   "execution_count": 4,
   "metadata": {
    "scrolled": true
   },
   "outputs": [
    {
     "name": "stdout",
     "output_type": "stream",
     "text": [
      "Faltan los siguientes resultados:\n",
      "dp1 6\n",
      "dp2 3\n",
      "dp2 4\n",
      "dp2 5\n",
      "dp2 6\n",
      "greedy 5\n",
      "greedy 6\n",
      "cplex 6\n"
     ]
    }
   ],
   "source": [
    "output_files = os.listdir(OUTPUT_PATH)\n",
    "alg_data = defaultdict(list)\n",
    "\n",
    "print(\"Faltan los siguientes resultados:\")\n",
    "for alg in ALGORITHMS:\n",
    "    alg_data[alg] = defaultdict(list)\n",
    "    for lvl in LEVELS:\n",
    "        filename = alg + \"_\" + str(lvl)\n",
    "        if filename not in output_files: # En caso de que todavía no hayan resultados\n",
    "            print(alg, lvl)\n",
    "            continue\n",
    "        alg_data[alg][lvl] = defaultdict(list)\n",
    "        file = open(OUTPUT_PATH+filename,'r')\n",
    "        for row in file:\n",
    "            id_, fo, time = row.split()\n",
    "            alg_data[alg][lvl][int(id_)].append([(float)(fo), (float)(time)])"
   ]
  },
  {
   "cell_type": "code",
   "execution_count": 5,
   "metadata": {},
   "outputs": [
    {
     "name": "stdout",
     "output_type": "stream",
     "text": [
      "level 1...\n",
      "level 2...\n",
      "level 3...\n",
      "level 4...\n",
      "level 5...\n",
      "level 6...\n"
     ]
    }
   ],
   "source": [
    "train_data = []\n",
    "train_label = []\n",
    "\n",
    "count = 0\n",
    "\n",
    "for lvl in LEVELS:\n",
    "    print(\"level \"+str(lvl)+\"...\")\n",
    "    for id_ in range(LEVELS_SIZE[lvl-1]):\n",
    "        fts = get_features(lvl, id_)\n",
    "        for t in np.linspace(0.01,6,200):\n",
    "            train_data.append([*fts, t+1])\n",
    "            train_label.append(get_best(lvl, id_, t))\n",
    "        count += 1"
   ]
  },
  {
   "cell_type": "code",
   "execution_count": 60,
   "metadata": {},
   "outputs": [
    {
     "name": "stdout",
     "output_type": "stream",
     "text": [
      "dp1 [[753.0, 4e-05]]\n",
      "dp2 [[753.0, 0.000521]]\n",
      "greedy [[753.0, 4.8e-05]]\n",
      "bf [[-1.0, -1.0]]\n",
      "bnb [[753.0, 0.00126]]\n",
      "cplex [[3426.0, 0.01586], [753.0, 0.016543]]\n",
      "BEST:  dp1\n"
     ]
    }
   ],
   "source": [
    "# comparing al ojo\n",
    "lvl_ = 1\n",
    "id_ = 100\n",
    "for alg in ALGORITHMS:\n",
    "    print(alg, alg_data[alg][lvl_][id_])\n",
    "    \n",
    "print('BEST: ',ALGORITHMS[get_best(lvl_,id_,1)-1])"
   ]
  },
  {
   "cell_type": "code",
   "execution_count": 91,
   "metadata": {
    "collapsed": true
   },
   "outputs": [],
   "source": [
    "data = pd.DataFrame(data=train_data, columns=[*FEATURES, 't'])"
   ]
  },
  {
   "cell_type": "markdown",
   "metadata": {},
   "source": [
    "## NN"
   ]
  },
  {
   "cell_type": "code",
   "execution_count": 1,
   "metadata": {},
   "outputs": [
    {
     "name": "stderr",
     "output_type": "stream",
     "text": [
      "/home/isaias/miniconda2/envs/musegan/lib/python3.6/site-packages/h5py/__init__.py:36: FutureWarning: Conversion of the second argument of issubdtype from `float` to `np.floating` is deprecated. In future, it will be treated as `np.float64 == np.dtype(float).type`.\n",
      "  from ._conv import register_converters as _register_converters\n",
      "Using TensorFlow backend.\n"
     ]
    }
   ],
   "source": [
    "\n",
    "# TensorFlow and tf.keras# Tensor \n",
    "import tensorflow as tf\n",
    "#from tensorflow import keras\n",
    "#from keras.layers import Dropout, Dense\n",
    "from keras import Sequential\n",
    "from keras.models import Model   \n",
    "from keras.layers import *\n",
    "# Helper libraries\n",
    "import matplotlib.pyplot as plt\n",
    "from sklearn.model_selection import train_test_split"
   ]
  },
  {
   "cell_type": "markdown",
   "metadata": {},
   "source": [
    "### Train and Test set"
   ]
  },
  {
   "cell_type": "code",
   "execution_count": null,
   "metadata": {},
   "outputs": [],
   "source": [
    "X_train, X_test, y_train, y_test = train_test_split(train_data, train_label, test_size=0.3, random_state=42, verbose=1)"
   ]
  },
  {
   "cell_type": "markdown",
   "metadata": {},
   "source": [
    "### Saving"
   ]
  },
  {
   "cell_type": "code",
   "execution_count": null,
   "metadata": {},
   "outputs": [],
   "source": [
    "with open('X_train.csv', 'w') as FOUT:\n",
    "    np.savetxt(FOUT, X_train)\n",
    "with open('X_test.csv', 'w') as FOUT:\n",
    "    np.savetxt(FOUT, X_test)\n",
    "with open('y_train.csv', 'w') as FOUT:\n",
    "    np.savetxt(FOUT, y_train)\n",
    "with open('y_test.csv', 'w') as FOUT:\n",
    "    np.savetxt(FOUT, y_test)"
   ]
  },
  {
   "cell_type": "markdown",
   "metadata": {},
   "source": [
    "### Loading"
   ]
  },
  {
   "cell_type": "code",
   "execution_count": null,
   "metadata": {},
   "outputs": [],
   "source": [
    "y_train = np.loadtxt('y_train.csv', dtype=float)"
   ]
  },
  {
   "cell_type": "code",
   "execution_count": null,
   "metadata": {},
   "outputs": [],
   "source": [
    "X_train = np.loadtxt('X_train.csv', dtype=float)"
   ]
  },
  {
   "cell_type": "markdown",
   "metadata": {},
   "source": [
    "### Model"
   ]
  },
  {
   "cell_type": "code",
   "execution_count": null,
   "metadata": {},
   "outputs": [],
   "source": [
    "model = Sequential([\n",
    "    Dense(128, input_shape = (22,), activation=tf.nn.relu),\n",
    "    Dropout(0.5),\n",
    "    Dense(64, activation=tf.nn.relu),\n",
    "    Dropout(0.5), \n",
    "    Dense(64, activation=tf.nn.relu),\n",
    "    Dropout(0.5), \n",
    "    Dense(7, activation=tf.nn.softmax)\n",
    "])"
   ]
  },
  {
   "cell_type": "code",
   "execution_count": null,
   "metadata": {},
   "outputs": [],
   "source": [
    "model.compile(optimizer=tf.train.AdamOptimizer(), \n",
    "              loss='sparse_categorical_crossentropy',\n",
    "              metrics=['accuracy'])"
   ]
  },
  {
   "cell_type": "code",
   "execution_count": null,
   "metadata": {},
   "outputs": [],
   "source": [
    "history = model.fit(np.array(X_train), np.array(y_train), epochs=100, validation_split=0.3)"
   ]
  },
  {
   "cell_type": "code",
   "execution_count": 183,
   "metadata": {},
   "outputs": [
    {
     "data": {
      "image/png": "[encoded data removed]",
      "text/plain": [
       "<matplotlib.figure.Figure at 0x7fb82a937dd8>"
      ]
     },
     "metadata": {},
     "output_type": "display_data"
    }
   ],
   "source": [
    "plt.plot(history.history['acc'])\n",
    "plt.plot(history.history['val_acc'])\n",
    "plt.title('model accuracy')\n",
    "plt.ylabel('accuracy')\n",
    "plt.xlabel('epoch')\n",
    "plt.legend(['train', 'test'], loc='upper left')\n",
    "plt.show()"
   ]
  },
  {
   "cell_type": "code",
   "execution_count": 184,
   "metadata": {},
   "outputs": [
    {
     "data": {
      "image/png": "[encoded data removed]",
      "text/plain": [
       "<matplotlib.figure.Figure at 0x7fb829e1a8d0>"
      ]
     },
     "metadata": {},
     "output_type": "display_data"
    }
   ],
   "source": [
    "plt.plot(history.history['loss'])\n",
    "plt.plot(history.history['val_loss'])\n",
    "plt.title('model loss')\n",
    "plt.ylabel('loss')\n",
    "plt.xlabel('epoch')\n",
    "plt.legend(['train', 'test'], loc='upper left')\n",
    "plt.show()"
   ]
  },
  {
   "cell_type": "markdown",
   "metadata": {},
   "source": [
    "### Evaluate Accuracy (test set)"
   ]
  },
  {
   "cell_type": "code",
   "execution_count": 39,
   "metadata": {},
   "outputs": [],
   "source": [
    "X_test = np.loadtxt('X_test.csv', dtype=float)\n",
    "y_test = np.loadtxt('y_test.csv', dtype=float)"
   ]
  },
  {
   "cell_type": "code",
   "execution_count": 40,
   "metadata": {},
   "outputs": [
    {
     "name": "stdout",
     "output_type": "stream",
     "text": [
      "1589643/1589643 [==============================] - 22s 14us/step\n",
      "Test accuracy: 0.8020039719609625\n"
     ]
    }
   ],
   "source": [
    "test_loss, test_acc = model.evaluate(X_test, y_test)\n",
    "\n",
    "print('Test accuracy:', test_acc)"
   ]
  },
  {
   "cell_type": "markdown",
   "metadata": {},
   "source": [
    "### Individual Predictions"
   ]
  },
  {
   "cell_type": "code",
   "execution_count": 121,
   "metadata": {},
   "outputs": [],
   "source": [
    "predictions = model.predict(X_test)"
   ]
  },
  {
   "cell_type": "code",
   "execution_count": null,
   "metadata": {},
   "outputs": [],
   "source": []
  },
  {
   "cell_type": "code",
   "execution_count": 140,
   "metadata": {},
   "outputs": [
    {
     "name": "stdout",
     "output_type": "stream",
     "text": [
      "[4.62e+02 1.56e+03 2.13e+00 2.14e+00 3.68e+00 9.65e-01 1.00e+00 9.20e-01\n",
      " 1.54e+03 1.60e+03 7.31e+02 7.28e+02 4.23e+02 9.00e+00 1.55e+03 7.57e+02\n",
      " 7.28e+02 4.60e+02 1.00e+00 1.60e+03 5.54e-02 1.01e+00]\n"
     ]
    },
    {
     "data": {
      "image/png": "[encoded data removed]",
      "text/plain": [
       "<matplotlib.figure.Figure at 0x7fb83f2ca320>"
      ]
     },
     "metadata": {},
     "output_type": "display_data"
    }
   ],
   "source": [
    "# rojo predicho\n",
    "# azul verdadero\n",
    "i = 4\n",
    "print(X_test[i])\n",
    "plt.figure()\n",
    "plot_value_array(i, predictions,  np.array(y_test, dtype=int))"
   ]
  },
  {
   "cell_type": "markdown",
   "metadata": {},
   "source": [
    "### Confusion matrix"
   ]
  },
  {
   "cell_type": "code",
   "execution_count": 169,
   "metadata": {},
   "outputs": [
    {
     "data": {
      "text/plain": [
       "<matplotlib.image.AxesImage at 0x7fb82b43fd68>"
      ]
     },
     "execution_count": 169,
     "metadata": {},
     "output_type": "execute_result"
    },
    {
     "data": {
      "image/png": "[encoded data removed]",
      "text/plain": [
       "<matplotlib.figure.Figure at 0x7fb82b43fda0>"
      ]
     },
     "metadata": {},
     "output_type": "display_data"
    }
   ],
   "source": [
    "best_predictions = np.argmax(predictions,axis=1)\n",
    "\n",
    "cm = confusion_matrix(np.array(y_test, dtype=int), best_predictions)\n",
    "\n",
    "fig, ax = plt.subplots()\n",
    "\n",
    "ax.matshow(cm, cmap=plt.cm.Blues)"
   ]
  },
  {
   "cell_type": "code",
   "execution_count": 24,
   "metadata": {},
   "outputs": [
    {
     "name": "stdout",
     "output_type": "stream",
     "text": [
      "[[0. 0. 0. 0. 0. 0. 1. 0. 0. 0.]]\n"
     ]
    }
   ],
   "source": [
    "sample = np.array(X_test[0])\n",
    "sample = (np.expand_dims(sample,0))\n",
    "predictions_single = model.predict(sample)\n",
    "\n",
    "print(predictions_single)"
   ]
  },
  {
   "cell_type": "code",
   "execution_count": 30,
   "metadata": {},
   "outputs": [
    {
     "data": {
      "text/plain": [
       "6.0"
      ]
     },
     "execution_count": 30,
     "metadata": {},
     "output_type": "execute_result"
    }
   ],
   "source": [
    "y_test[0]"
   ]
  },
  {
   "cell_type": "code",
   "execution_count": 123,
   "metadata": {
    "collapsed": true
   },
   "outputs": [],
   "source": []
  }
 ],
 "metadata": {
  "kernelspec": {
   "display_name": "Python 3",
   "language": "python",
   "name": "python3"
  },
  "language_info": {
   "codemirror_mode": {
    "name": "ipython",
    "version": 3
   },
   "file_extension": ".py",
   "mimetype": "text/x-python",
   "name": "python",
   "nbconvert_exporter": "python",
   "pygments_lexer": "ipython3",
   "version": "3.6.4"
  }
 },
 "nbformat": 4,
 "nbformat_minor": 2
}
