{
 "cells": [
  {
   "cell_type": "code",
   "execution_count": 1,
   "metadata": {
    "collapsed": true
   },
   "outputs": [],
   "source": [
    "import numpy as np\n",
    "import pandas as pd\n",
    "import os\n",
    "from collections import defaultdict"
   ]
  },
  {
   "cell_type": "markdown",
   "metadata": {},
   "source": [
    "### Globals"
   ]
  },
  {
   "cell_type": "code",
   "execution_count": 2,
   "metadata": {
    "collapsed": true
   },
   "outputs": [],
   "source": [
    "OUTPUT_PATH = 'outputs/'\n",
    "FEATURES_PATH = 'features/'\n",
    "ALGORITHMS = ['dp1', 'dp2', 'greedy', 'bf', 'bnb']\n",
    "LEVELS = [1,2,3,4,5]\n",
    "LEVELS_SIZE = [19198 ,9983, 6664, 4994, 3999]\n",
    "FEATURES = ['num_elem',\n",
    "            'cap',\n",
    "            'cap_mean_w',\n",
    "            'cap_median_w', \n",
    "            'cap_desv_w', \n",
    "            'mean_w_mean_v',\n",
    "            'median_w_median_v', \n",
    "            'desv_w_desv_v',\n",
    "            'max_w_min_w',\n",
    "            'max_v_min_v',\n",
    "            'mean_w',\n",
    "            'median_w', \n",
    "            'desv_w', \n",
    "            'min_w', \n",
    "            'max_w', \n",
    "            'mean_v', \n",
    "            'median_v', \n",
    "            'desv_v', \n",
    "            'min_v', \n",
    "            'max_v',\n",
    "            'p_coef' \n",
    "           ]"
   ]
  },
  {
   "cell_type": "markdown",
   "metadata": {},
   "source": [
    "### Helpers"
   ]
  },
  {
   "cell_type": "code",
   "execution_count": 3,
   "metadata": {
    "collapsed": true
   },
   "outputs": [],
   "source": [
    "def get_features(lvl, id_):\n",
    "    return np.array(open(FEATURES_PATH +str(lvl)+'/'+ str(id_),'r').read().split(), dtype=float)\n",
    "\n",
    "def get_best(lvl, id_, t):\n",
    "    best_fo = 0\n",
    "    best_alg = 0\n",
    "    for alg in ALGORITHMS:\n",
    "        if lvl not in list(alg_data[alg].keys()): continue\n",
    "        for res in alg_data[alg][lvl][id_]:\n",
    "            if res[1] < t and res[0] > best_fo:\n",
    "                best_alg = ALGORITHMS.index(alg)+1\n",
    "    return best_alg\n",
    "\n",
    "def plot_value_array(i, predictions_array, true_label):\n",
    "  predictions_array, true_label = predictions_array[i], true_label[i]\n",
    "  plt.grid(False)\n",
    "  plt.xticks([])\n",
    "  plt.yticks([])\n",
    "  thisplot = plt.bar(range(10), predictions_array, color=\"#777777\")\n",
    "  plt.ylim([0, 1]) \n",
    "  predicted_label = np.argmax(predictions_array)\n",
    " \n",
    "  thisplot[predicted_label].set_color('red')\n",
    "  thisplot[true_label].set_color('blue')"
   ]
  },
  {
   "cell_type": "markdown",
   "metadata": {},
   "source": [
    "### Reading outputs"
   ]
  },
  {
   "cell_type": "code",
   "execution_count": 4,
   "metadata": {},
   "outputs": [
    {
     "name": "stdout",
     "output_type": "stream",
     "text": [
      "Faltan los siguientes resultados:\n",
      "dp2 3\n",
      "dp2 4\n",
      "dp2 5\n",
      "greedy 5\n",
      "bnb 5\n"
     ]
    }
   ],
   "source": [
    "output_files = os.listdir(OUTPUT_PATH)\n",
    "alg_data = defaultdict(list)\n",
    "\n",
    "print(\"Faltan los siguientes resultados:\")\n",
    "for alg in ALGORITHMS:\n",
    "    alg_data[alg] = defaultdict(list)\n",
    "    for lvl in LEVELS:\n",
    "        filename = alg + \"_\" + str(lvl)\n",
    "        if filename not in output_files: # En caso de que todavía no hayan resultados\n",
    "            print(alg, lvl)\n",
    "            continue\n",
    "        alg_data[alg][lvl] = defaultdict(list)\n",
    "        file = open(OUTPUT_PATH+filename,'r')\n",
    "        for row in file:\n",
    "            id_, fo, time = row.split()\n",
    "            alg_data[alg][lvl][int(id_)].append([(int)(fo), (float)(time)])"
   ]
  },
  {
   "cell_type": "code",
   "execution_count": 5,
   "metadata": {},
   "outputs": [
    {
     "name": "stdout",
     "output_type": "stream",
     "text": [
      "level 1...\n",
      "level 2...\n",
      "level 3...\n",
      "level 4...\n",
      "level 5...\n"
     ]
    }
   ],
   "source": [
    "train_data = []\n",
    "train_label = []\n",
    "\n",
    "count = 0\n",
    "\n",
    "alg = 'dp1'\n",
    "for lvl in LEVELS:\n",
    "    print(\"level \"+str(lvl)+\"...\")\n",
    "    for id_ in range(LEVELS_SIZE[lvl-1]):\n",
    "        fts = get_features(lvl, id_)\n",
    "        for t in np.linspace(0.01,3,100):\n",
    "            train_data.append([*fts, t+1])\n",
    "            train_label.append(get_best(lvl, id_, t))\n",
    "        count += 1"
   ]
  },
  {
   "cell_type": "code",
   "execution_count": 6,
   "metadata": {
    "collapsed": true
   },
   "outputs": [],
   "source": [
    "data = pd.DataFrame(data=train_data, columns=[*FEATURES, 't'])"
   ]
  },
  {
   "cell_type": "code",
   "execution_count": 7,
   "metadata": {},
   "outputs": [
    {
     "ename": "ValueError",
     "evalue": "-1 is not in list",
     "output_type": "error",
     "traceback": [
      "\u001b[0;31m---------------------------------------------------------------------------\u001b[0m",
      "\u001b[0;31mValueError\u001b[0m                                Traceback (most recent call last)",
      "\u001b[0;32m<ipython-input-7-3d6f3ff6be44>\u001b[0m in \u001b[0;36m<module>\u001b[0;34m()\u001b[0m\n\u001b[0;32m----> 1\u001b[0;31m \u001b[0mtrain_label\u001b[0m\u001b[0;34m.\u001b[0m\u001b[0mindex\u001b[0m\u001b[0;34m(\u001b[0m\u001b[0;34m-\u001b[0m\u001b[0;36m1\u001b[0m\u001b[0;34m)\u001b[0m\u001b[0;34m\u001b[0m\u001b[0m\n\u001b[0m",
      "\u001b[0;31mValueError\u001b[0m: -1 is not in list"
     ]
    }
   ],
   "source": [
    "train_label.index(-1)"
   ]
  },
  {
   "cell_type": "code",
   "execution_count": 8,
   "metadata": {},
   "outputs": [
    {
     "data": {
      "text/html": [
       "<div>\n",
       "<style scoped>\n",
       "    .dataframe tbody tr th:only-of-type {\n",
       "        vertical-align: middle;\n",
       "    }\n",
       "\n",
       "    .dataframe tbody tr th {\n",
       "        vertical-align: top;\n",
       "    }\n",
       "\n",
       "    .dataframe thead th {\n",
       "        text-align: right;\n",
       "    }\n",
       "</style>\n",
       "<table border=\"1\" class=\"dataframe\">\n",
       "  <thead>\n",
       "    <tr style=\"text-align: right;\">\n",
       "      <th></th>\n",
       "      <th>num_elem</th>\n",
       "      <th>cap</th>\n",
       "      <th>cap_mean_w</th>\n",
       "      <th>cap_median_w</th>\n",
       "      <th>cap_desv_w</th>\n",
       "      <th>mean_w_mean_v</th>\n",
       "      <th>median_w_median_v</th>\n",
       "      <th>desv_w_desv_v</th>\n",
       "      <th>max_w_min_w</th>\n",
       "      <th>max_v_min_v</th>\n",
       "      <th>...</th>\n",
       "      <th>desv_w</th>\n",
       "      <th>min_w</th>\n",
       "      <th>max_w</th>\n",
       "      <th>mean_v</th>\n",
       "      <th>median_v</th>\n",
       "      <th>desv_v</th>\n",
       "      <th>min_v</th>\n",
       "      <th>max_v</th>\n",
       "      <th>p_coef</th>\n",
       "      <th>t</th>\n",
       "    </tr>\n",
       "  </thead>\n",
       "  <tbody>\n",
       "    <tr>\n",
       "      <th>0</th>\n",
       "      <td>92.0</td>\n",
       "      <td>12.0</td>\n",
       "      <td>1.916667</td>\n",
       "      <td>1.714286</td>\n",
       "      <td>4.039866</td>\n",
       "      <td>0.126788</td>\n",
       "      <td>0.145833</td>\n",
       "      <td>0.097213</td>\n",
       "      <td>10.0</td>\n",
       "      <td>98.0</td>\n",
       "      <td>...</td>\n",
       "      <td>2.970396</td>\n",
       "      <td>1.0</td>\n",
       "      <td>11.0</td>\n",
       "      <td>49.380435</td>\n",
       "      <td>48.0</td>\n",
       "      <td>30.555666</td>\n",
       "      <td>1.0</td>\n",
       "      <td>99.0</td>\n",
       "      <td>0.052918</td>\n",
       "      <td>1.010000</td>\n",
       "    </tr>\n",
       "    <tr>\n",
       "      <th>1</th>\n",
       "      <td>92.0</td>\n",
       "      <td>12.0</td>\n",
       "      <td>1.916667</td>\n",
       "      <td>1.714286</td>\n",
       "      <td>4.039866</td>\n",
       "      <td>0.126788</td>\n",
       "      <td>0.145833</td>\n",
       "      <td>0.097213</td>\n",
       "      <td>10.0</td>\n",
       "      <td>98.0</td>\n",
       "      <td>...</td>\n",
       "      <td>2.970396</td>\n",
       "      <td>1.0</td>\n",
       "      <td>11.0</td>\n",
       "      <td>49.380435</td>\n",
       "      <td>48.0</td>\n",
       "      <td>30.555666</td>\n",
       "      <td>1.0</td>\n",
       "      <td>99.0</td>\n",
       "      <td>0.052918</td>\n",
       "      <td>1.040202</td>\n",
       "    </tr>\n",
       "    <tr>\n",
       "      <th>2</th>\n",
       "      <td>92.0</td>\n",
       "      <td>12.0</td>\n",
       "      <td>1.916667</td>\n",
       "      <td>1.714286</td>\n",
       "      <td>4.039866</td>\n",
       "      <td>0.126788</td>\n",
       "      <td>0.145833</td>\n",
       "      <td>0.097213</td>\n",
       "      <td>10.0</td>\n",
       "      <td>98.0</td>\n",
       "      <td>...</td>\n",
       "      <td>2.970396</td>\n",
       "      <td>1.0</td>\n",
       "      <td>11.0</td>\n",
       "      <td>49.380435</td>\n",
       "      <td>48.0</td>\n",
       "      <td>30.555666</td>\n",
       "      <td>1.0</td>\n",
       "      <td>99.0</td>\n",
       "      <td>0.052918</td>\n",
       "      <td>1.070404</td>\n",
       "    </tr>\n",
       "    <tr>\n",
       "      <th>3</th>\n",
       "      <td>92.0</td>\n",
       "      <td>12.0</td>\n",
       "      <td>1.916667</td>\n",
       "      <td>1.714286</td>\n",
       "      <td>4.039866</td>\n",
       "      <td>0.126788</td>\n",
       "      <td>0.145833</td>\n",
       "      <td>0.097213</td>\n",
       "      <td>10.0</td>\n",
       "      <td>98.0</td>\n",
       "      <td>...</td>\n",
       "      <td>2.970396</td>\n",
       "      <td>1.0</td>\n",
       "      <td>11.0</td>\n",
       "      <td>49.380435</td>\n",
       "      <td>48.0</td>\n",
       "      <td>30.555666</td>\n",
       "      <td>1.0</td>\n",
       "      <td>99.0</td>\n",
       "      <td>0.052918</td>\n",
       "      <td>1.100606</td>\n",
       "    </tr>\n",
       "    <tr>\n",
       "      <th>4</th>\n",
       "      <td>92.0</td>\n",
       "      <td>12.0</td>\n",
       "      <td>1.916667</td>\n",
       "      <td>1.714286</td>\n",
       "      <td>4.039866</td>\n",
       "      <td>0.126788</td>\n",
       "      <td>0.145833</td>\n",
       "      <td>0.097213</td>\n",
       "      <td>10.0</td>\n",
       "      <td>98.0</td>\n",
       "      <td>...</td>\n",
       "      <td>2.970396</td>\n",
       "      <td>1.0</td>\n",
       "      <td>11.0</td>\n",
       "      <td>49.380435</td>\n",
       "      <td>48.0</td>\n",
       "      <td>30.555666</td>\n",
       "      <td>1.0</td>\n",
       "      <td>99.0</td>\n",
       "      <td>0.052918</td>\n",
       "      <td>1.130808</td>\n",
       "    </tr>\n",
       "    <tr>\n",
       "      <th>5</th>\n",
       "      <td>92.0</td>\n",
       "      <td>12.0</td>\n",
       "      <td>1.916667</td>\n",
       "      <td>1.714286</td>\n",
       "      <td>4.039866</td>\n",
       "      <td>0.126788</td>\n",
       "      <td>0.145833</td>\n",
       "      <td>0.097213</td>\n",
       "      <td>10.0</td>\n",
       "      <td>98.0</td>\n",
       "      <td>...</td>\n",
       "      <td>2.970396</td>\n",
       "      <td>1.0</td>\n",
       "      <td>11.0</td>\n",
       "      <td>49.380435</td>\n",
       "      <td>48.0</td>\n",
       "      <td>30.555666</td>\n",
       "      <td>1.0</td>\n",
       "      <td>99.0</td>\n",
       "      <td>0.052918</td>\n",
       "      <td>1.161010</td>\n",
       "    </tr>\n",
       "    <tr>\n",
       "      <th>6</th>\n",
       "      <td>92.0</td>\n",
       "      <td>12.0</td>\n",
       "      <td>1.916667</td>\n",
       "      <td>1.714286</td>\n",
       "      <td>4.039866</td>\n",
       "      <td>0.126788</td>\n",
       "      <td>0.145833</td>\n",
       "      <td>0.097213</td>\n",
       "      <td>10.0</td>\n",
       "      <td>98.0</td>\n",
       "      <td>...</td>\n",
       "      <td>2.970396</td>\n",
       "      <td>1.0</td>\n",
       "      <td>11.0</td>\n",
       "      <td>49.380435</td>\n",
       "      <td>48.0</td>\n",
       "      <td>30.555666</td>\n",
       "      <td>1.0</td>\n",
       "      <td>99.0</td>\n",
       "      <td>0.052918</td>\n",
       "      <td>1.191212</td>\n",
       "    </tr>\n",
       "    <tr>\n",
       "      <th>7</th>\n",
       "      <td>92.0</td>\n",
       "      <td>12.0</td>\n",
       "      <td>1.916667</td>\n",
       "      <td>1.714286</td>\n",
       "      <td>4.039866</td>\n",
       "      <td>0.126788</td>\n",
       "      <td>0.145833</td>\n",
       "      <td>0.097213</td>\n",
       "      <td>10.0</td>\n",
       "      <td>98.0</td>\n",
       "      <td>...</td>\n",
       "      <td>2.970396</td>\n",
       "      <td>1.0</td>\n",
       "      <td>11.0</td>\n",
       "      <td>49.380435</td>\n",
       "      <td>48.0</td>\n",
       "      <td>30.555666</td>\n",
       "      <td>1.0</td>\n",
       "      <td>99.0</td>\n",
       "      <td>0.052918</td>\n",
       "      <td>1.221414</td>\n",
       "    </tr>\n",
       "    <tr>\n",
       "      <th>8</th>\n",
       "      <td>92.0</td>\n",
       "      <td>12.0</td>\n",
       "      <td>1.916667</td>\n",
       "      <td>1.714286</td>\n",
       "      <td>4.039866</td>\n",
       "      <td>0.126788</td>\n",
       "      <td>0.145833</td>\n",
       "      <td>0.097213</td>\n",
       "      <td>10.0</td>\n",
       "      <td>98.0</td>\n",
       "      <td>...</td>\n",
       "      <td>2.970396</td>\n",
       "      <td>1.0</td>\n",
       "      <td>11.0</td>\n",
       "      <td>49.380435</td>\n",
       "      <td>48.0</td>\n",
       "      <td>30.555666</td>\n",
       "      <td>1.0</td>\n",
       "      <td>99.0</td>\n",
       "      <td>0.052918</td>\n",
       "      <td>1.251616</td>\n",
       "    </tr>\n",
       "    <tr>\n",
       "      <th>9</th>\n",
       "      <td>92.0</td>\n",
       "      <td>12.0</td>\n",
       "      <td>1.916667</td>\n",
       "      <td>1.714286</td>\n",
       "      <td>4.039866</td>\n",
       "      <td>0.126788</td>\n",
       "      <td>0.145833</td>\n",
       "      <td>0.097213</td>\n",
       "      <td>10.0</td>\n",
       "      <td>98.0</td>\n",
       "      <td>...</td>\n",
       "      <td>2.970396</td>\n",
       "      <td>1.0</td>\n",
       "      <td>11.0</td>\n",
       "      <td>49.380435</td>\n",
       "      <td>48.0</td>\n",
       "      <td>30.555666</td>\n",
       "      <td>1.0</td>\n",
       "      <td>99.0</td>\n",
       "      <td>0.052918</td>\n",
       "      <td>1.281818</td>\n",
       "    </tr>\n",
       "  </tbody>\n",
       "</table>\n",
       "<p>10 rows × 22 columns</p>\n",
       "</div>"
      ],
      "text/plain": [
       "   num_elem   cap  cap_mean_w  cap_median_w  cap_desv_w  mean_w_mean_v  \\\n",
       "0      92.0  12.0    1.916667      1.714286    4.039866       0.126788   \n",
       "1      92.0  12.0    1.916667      1.714286    4.039866       0.126788   \n",
       "2      92.0  12.0    1.916667      1.714286    4.039866       0.126788   \n",
       "3      92.0  12.0    1.916667      1.714286    4.039866       0.126788   \n",
       "4      92.0  12.0    1.916667      1.714286    4.039866       0.126788   \n",
       "5      92.0  12.0    1.916667      1.714286    4.039866       0.126788   \n",
       "6      92.0  12.0    1.916667      1.714286    4.039866       0.126788   \n",
       "7      92.0  12.0    1.916667      1.714286    4.039866       0.126788   \n",
       "8      92.0  12.0    1.916667      1.714286    4.039866       0.126788   \n",
       "9      92.0  12.0    1.916667      1.714286    4.039866       0.126788   \n",
       "\n",
       "   median_w_median_v  desv_w_desv_v  max_w_min_w  max_v_min_v    ...     \\\n",
       "0           0.145833       0.097213         10.0         98.0    ...      \n",
       "1           0.145833       0.097213         10.0         98.0    ...      \n",
       "2           0.145833       0.097213         10.0         98.0    ...      \n",
       "3           0.145833       0.097213         10.0         98.0    ...      \n",
       "4           0.145833       0.097213         10.0         98.0    ...      \n",
       "5           0.145833       0.097213         10.0         98.0    ...      \n",
       "6           0.145833       0.097213         10.0         98.0    ...      \n",
       "7           0.145833       0.097213         10.0         98.0    ...      \n",
       "8           0.145833       0.097213         10.0         98.0    ...      \n",
       "9           0.145833       0.097213         10.0         98.0    ...      \n",
       "\n",
       "     desv_w  min_w  max_w     mean_v  median_v     desv_v  min_v  max_v  \\\n",
       "0  2.970396    1.0   11.0  49.380435      48.0  30.555666    1.0   99.0   \n",
       "1  2.970396    1.0   11.0  49.380435      48.0  30.555666    1.0   99.0   \n",
       "2  2.970396    1.0   11.0  49.380435      48.0  30.555666    1.0   99.0   \n",
       "3  2.970396    1.0   11.0  49.380435      48.0  30.555666    1.0   99.0   \n",
       "4  2.970396    1.0   11.0  49.380435      48.0  30.555666    1.0   99.0   \n",
       "5  2.970396    1.0   11.0  49.380435      48.0  30.555666    1.0   99.0   \n",
       "6  2.970396    1.0   11.0  49.380435      48.0  30.555666    1.0   99.0   \n",
       "7  2.970396    1.0   11.0  49.380435      48.0  30.555666    1.0   99.0   \n",
       "8  2.970396    1.0   11.0  49.380435      48.0  30.555666    1.0   99.0   \n",
       "9  2.970396    1.0   11.0  49.380435      48.0  30.555666    1.0   99.0   \n",
       "\n",
       "     p_coef         t  \n",
       "0  0.052918  1.010000  \n",
       "1  0.052918  1.040202  \n",
       "2  0.052918  1.070404  \n",
       "3  0.052918  1.100606  \n",
       "4  0.052918  1.130808  \n",
       "5  0.052918  1.161010  \n",
       "6  0.052918  1.191212  \n",
       "7  0.052918  1.221414  \n",
       "8  0.052918  1.251616  \n",
       "9  0.052918  1.281818  \n",
       "\n",
       "[10 rows x 22 columns]"
      ]
     },
     "execution_count": 8,
     "metadata": {},
     "output_type": "execute_result"
    }
   ],
   "source": [
    "data.head(10)"
   ]
  },
  {
   "cell_type": "code",
   "execution_count": 13,
   "metadata": {},
   "outputs": [
    {
     "data": {
      "text/plain": [
       "(4483800, 22)"
      ]
     },
     "execution_count": 13,
     "metadata": {},
     "output_type": "execute_result"
    }
   ],
   "source": [
    "data.shape"
   ]
  },
  {
   "cell_type": "markdown",
   "metadata": {},
   "source": [
    "## NN"
   ]
  },
  {
   "cell_type": "code",
   "execution_count": 18,
   "metadata": {},
   "outputs": [],
   "source": [
    "# TensorFlow and tf.keras\n",
    "import tensorflow as tf\n",
    "#from tensorflow import keras\n",
    "#from keras.layers import Dropout, Dense\n",
    "#from keras import Sequential\n",
    "from keras.models import Model   \n",
    "from keras.layers import *\n",
    "# Helper libraries\n",
    "import matplotlib.pyplot as plt"
   ]
  },
  {
   "cell_type": "code",
   "execution_count": 20,
   "metadata": {
    "collapsed": true
   },
   "outputs": [],
   "source": [
    "model = Sequential([\n",
    "    Dense(128, input_shape = (22,), activation=tf.nn.relu),\n",
    "    Dropout(0.5), #parametro prob de activacion\n",
    "    Dense(128, activation=tf.nn.relu),\n",
    "    Dropout(0.5), \n",
    "    Dense(10, activation=tf.nn.softmax)\n",
    "])"
   ]
  },
  {
   "cell_type": "code",
   "execution_count": 25,
   "metadata": {
    "collapsed": true
   },
   "outputs": [],
   "source": [
    "model.compile(optimizer=tf.train.AdamOptimizer(), \n",
    "              loss='sparse_categorical_crossentropy',\n",
    "              metrics=['accuracy'])"
   ]
  },
  {
   "cell_type": "code",
   "execution_count": null,
   "metadata": {},
   "outputs": [
    {
     "name": "stdout",
     "output_type": "stream",
     "text": [
      "Epoch 1/20\n",
      "4483800/4483800 [==============================] - 505s 113us/step - loss: 1.4385 - acc: 0.9107\n",
      "Epoch 2/20\n",
      "4483800/4483800 [==============================] - 492s 110us/step - loss: 1.4375 - acc: 0.9108\n",
      "Epoch 3/20\n",
      "4483800/4483800 [==============================] - 497s 111us/step - loss: 1.4375 - acc: 0.9108\n",
      "Epoch 4/20\n",
      "4483800/4483800 [==============================] - 499s 111us/step - loss: 1.4375 - acc: 0.9108\n",
      "Epoch 5/20\n",
      "4483800/4483800 [==============================] - 498s 111us/step - loss: 1.4375 - acc: 0.9108\n",
      "Epoch 6/20\n",
      "4483800/4483800 [==============================] - 498s 111us/step - loss: 1.4375 - acc: 0.9108\n",
      "Epoch 7/20\n",
      "4483800/4483800 [==============================] - 500s 111us/step - loss: 1.4375 - acc: 0.9108\n",
      "Epoch 8/20\n",
      "4483800/4483800 [==============================] - 496s 111us/step - loss: 1.4375 - acc: 0.9108\n",
      "Epoch 9/20\n",
      "2601184/4483800 [================>.............] - ETA: 3:30 - loss: 1.4370 - acc: 0.9108"
     ]
    }
   ],
   "source": [
    "model.fit(np.array(train_data), np.array(train_label), epochs=20)"
   ]
  },
  {
   "cell_type": "code",
   "execution_count": 24,
   "metadata": {},
   "outputs": [
    {
     "name": "stdout",
     "output_type": "stream",
     "text": [
      "(4483800, 22) (4483800,)\n"
     ]
    }
   ],
   "source": [
    "print(np.array(train_data).shape, np.array(train_label).shape)"
   ]
  },
  {
   "cell_type": "code",
   "execution_count": 32,
   "metadata": {},
   "outputs": [
    {
     "name": "stdout",
     "output_type": "stream",
     "text": [
      "[[0. 0. 0. 0. 0. 1. 0. 0. 0. 0.]]\n"
     ]
    }
   ],
   "source": [
    "sample = np.array(train_data[0])\n",
    "sample = (np.expand_dims(sample,0))\n",
    "predictions_single = model.predict(sample)\n",
    "\n",
    "print(predictions_single)"
   ]
  },
  {
   "cell_type": "code",
   "execution_count": 35,
   "metadata": {},
   "outputs": [
    {
     "data": {
      "image/png": "[encoded data removed]",
      "text/plain": [
       "<matplotlib.figure.Figure at 0x7f1613504438>"
      ]
     },
     "metadata": {},
     "output_type": "display_data"
    }
   ],
   "source": [
    "plot_value_array(0, predictions_single, np.array([1]))\n",
    "_ = plt.xticks(range(10), ['no_algs',*ALGORITHMS], rotation=45)"
   ]
  },
  {
   "cell_type": "code",
   "execution_count": 123,
   "metadata": {
    "collapsed": true
   },
   "outputs": [],
   "source": []
  }
 ],
 "metadata": {
  "kernelspec": {
   "display_name": "Python [default]",
   "language": "python",
   "name": "python3"
  },
  "language_info": {
   "codemirror_mode": {
    "name": "ipython",
    "version": 3
   },
   "file_extension": ".py",
   "mimetype": "text/x-python",
   "name": "python",
   "nbconvert_exporter": "python",
   "pygments_lexer": "ipython3",
   "version": "3.6.3"
  }
 },
 "nbformat": 4,
 "nbformat_minor": 2
}
