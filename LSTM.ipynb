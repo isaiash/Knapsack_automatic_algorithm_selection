{
 "cells": [
  {
   "cell_type": "code",
   "execution_count": 1,
   "metadata": {
    "collapsed": true
   },
   "outputs": [],
   "source": [
    "import numpy as np\n",
    "import pandas as pd\n",
    "import os\n",
    "from collections import defaultdict"
   ]
  },
  {
   "cell_type": "markdown",
   "metadata": {},
   "source": [
    "### Globals"
   ]
  },
  {
   "cell_type": "code",
   "execution_count": 2,
   "metadata": {
    "collapsed": true
   },
   "outputs": [],
   "source": [
    "OUTPUT_PATH = 'outputs/'\n",
    "FEATURES_PATH = 'features/'\n",
    "ALGORITHMS = ['bf', 'dp1','greedy', 'bnb', 'cplex']\n",
    "LEVELS = [1,2]#,3,4]#5,6,7,8]\n",
    "LEVELS_SIZE = [19198 ,9983, 6664, 4994]#, 3999, 3333, 2857, 2500]\n",
    "FEATURES = ['num_elem',\n",
    "            'cap',\n",
    "            'cap_mean_w',\n",
    "            'cap_median_w', \n",
    "            'cap_desv_w', \n",
    "            'mean_w_mean_v',\n",
    "            'median_w_median_v', \n",
    "            'desv_w_desv_v',\n",
    "            'max_w_min_w',\n",
    "            'max_v_min_v',\n",
    "            'mean_w',\n",
    "            'median_w', \n",
    "            'desv_w', \n",
    "            'min_w', \n",
    "            'max_w', \n",
    "            'mean_v', \n",
    "            'median_v', \n",
    "            'desv_v', \n",
    "            'min_v', \n",
    "            'max_v',\n",
    "            'p_coef' \n",
    "           ]"
   ]
  },
  {
   "cell_type": "markdown",
   "metadata": {},
   "source": [
    "### Helpers"
   ]
  },
  {
   "cell_type": "code",
   "execution_count": 3,
   "metadata": {
    "collapsed": true
   },
   "outputs": [],
   "source": [
    "def get_features(lvl, id_):\n",
    "    return np.array(open(FEATURES_PATH +str(lvl)+'/'+ str(id_),'r').read().split(), dtype=float)\n",
    "\n",
    "def get_best(lvl, id_, t):\n",
    "    best_fo = 0\n",
    "    best_alg = 0\n",
    "    best_time = 900000\n",
    "    for alg in ALGORITHMS:\n",
    "        if lvl not in alg_data[alg].keys(): continue\n",
    "        if id_ not in alg_data[alg][lvl].keys(): continue\n",
    "        for res in alg_data[alg][lvl][id_]:\n",
    "            if res[1] < t:\n",
    "                if res[0] > best_fo:\n",
    "                    best_fo = res[0]\n",
    "                    best_time = res[1]\n",
    "                    best_alg = ALGORITHMS.index(alg)\n",
    "                \n",
    "                elif res[0] == best_fo and res[1] < best_time:\n",
    "                    best_time = res[1]\n",
    "                    best_alg = ALGORITHMS.index(alg)\n",
    "    return best_alg+1\n",
    "\n",
    "def plot_value_array(i, predictions_array, true_label):\n",
    "    predictions_array, true_label = predictions_array[i], true_label[i]\n",
    "    plt.grid(False)\n",
    "    plt.xticks([])\n",
    "    plt.yticks([])\n",
    "    thisplot = plt.bar(range(6), predictions_array, color=\"#777777\")\n",
    "    plt.ylim([0, 1]) \n",
    "    plt.xticks(np.arange(6), [\"NA\",*ALGORITHMS])\n",
    "    predicted_label = np.argmax(predictions_array)\n",
    "\n",
    "    thisplot[predicted_label].set_color('red')\n",
    "    thisplot[true_label].set_color('blue')"
   ]
  },
  {
   "cell_type": "markdown",
   "metadata": {},
   "source": [
    "### Reading outputs"
   ]
  },
  {
   "cell_type": "code",
   "execution_count": 5,
   "metadata": {},
   "outputs": [
    {
     "name": "stdout",
     "output_type": "stream",
     "text": [
      "Faltan los siguientes resultados:\n"
     ]
    }
   ],
   "source": [
    "output_files = os.listdir(OUTPUT_PATH)\n",
    "alg_data = defaultdict(list)\n",
    "\n",
    "print(\"Faltan los siguientes resultados:\")\n",
    "for alg in ALGORITHMS:\n",
    "    alg_data[alg] = defaultdict(list)\n",
    "    for lvl in LEVELS:\n",
    "        filename = alg + \"_\" + str(lvl)\n",
    "        if filename not in output_files: # En caso de que todavía no hayan resultados\n",
    "            print(alg, lvl)\n",
    "            continue\n",
    "        alg_data[alg][lvl] = defaultdict(list)\n",
    "        file = open(OUTPUT_PATH+filename,'r')\n",
    "        for row in file:\n",
    "            id_, fo, time = row.split()\n",
    "            alg_data[alg][lvl][int(id_)].append([(float)(fo), (float)(time)])"
   ]
  },
  {
   "cell_type": "code",
   "execution_count": 10,
   "metadata": {},
   "outputs": [
    {
     "name": "stdout",
     "output_type": "stream",
     "text": [
      "[0.         0.43263673 1.03543213 1.87531066 3.04551855 4.67597636]\n"
     ]
    },
    {
     "data": {
      "text/plain": [
       "array([0.43263673, 1.03543213, 1.87531066, 3.04551855, 4.67597636])"
      ]
     },
     "execution_count": 10,
     "metadata": {},
     "output_type": "execute_result"
    }
   ],
   "source": [
    "timesteps = np.logspace(1, 18.4, num=6, base=1.1)-1.1 # escala logaritmica para los tiempos\n",
    "print(timesteps)\n",
    "timesteps = timesteps[1:]\n",
    "timesteps"
   ]
  },
  {
   "cell_type": "code",
   "execution_count": 11,
   "metadata": {},
   "outputs": [
    {
     "name": "stdout",
     "output_type": "stream",
     "text": [
      "level 1...\n",
      "level 2...\n"
     ]
    }
   ],
   "source": [
    "train_data = []\n",
    "train_label = []\n",
    "\n",
    "count = 0\n",
    "\n",
    "for lvl in LEVELS:\n",
    "    print(\"level \"+str(lvl)+\"...\")\n",
    "    for id_ in range(LEVELS_SIZE[lvl-1]):\n",
    "        fts = get_features(lvl, id_)\n",
    "        for t in timesteps:\n",
    "            train_data.append([*fts, t+1])\n",
    "            train_label.append(get_best(lvl, id_, t))\n",
    "        count += 1"
   ]
  },
  {
   "cell_type": "markdown",
   "metadata": {},
   "source": [
    "#### Standard Scale: mean=0 and std=1"
   ]
  },
  {
   "cell_type": "code",
   "execution_count": 12,
   "metadata": {
    "collapsed": true
   },
   "outputs": [],
   "source": [
    "from sklearn.preprocessing import StandardScaler\n",
    "scaler = StandardScaler()\n",
    "strain_data = scaler.fit_transform(train_data)"
   ]
  },
  {
   "cell_type": "markdown",
   "metadata": {},
   "source": [
    "#### or... between 0 and 1"
   ]
  },
  {
   "cell_type": "code",
   "execution_count": 13,
   "metadata": {
    "collapsed": true
   },
   "outputs": [],
   "source": [
    "from sklearn.preprocessing import MinMaxScaler\n",
    "min_max_scaler = MinMaxScaler()\n",
    "strain_data = min_max_scaler.fit_transform(train_data)"
   ]
  },
  {
   "cell_type": "markdown",
   "metadata": {},
   "source": [
    "# LSTM"
   ]
  },
  {
   "cell_type": "code",
   "execution_count": 26,
   "metadata": {},
   "outputs": [],
   "source": [
    "import tensorflow as tf\n",
    "from keras.layers import Dropout, Dense, LSTM\n",
    "from keras import Sequential\n",
    "from keras import optimizers\n",
    "from keras.models import Model   \n",
    "from keras.layers import *\n",
    "import keras\n",
    "# Helper libraries\n",
    "import matplotlib.pyplot as plt\n",
    "import sklearn\n",
    "from sklearn.model_selection import train_test_split\n",
    "from keras.utils.np_utils import to_categorical\n",
    "from keras import backend as K"
   ]
  },
  {
   "cell_type": "code",
   "execution_count": 16,
   "metadata": {
    "collapsed": true
   },
   "outputs": [],
   "source": [
    "def f1(y_true, y_pred):\n",
    "    def recall(y_true, y_pred):\n",
    "        \"\"\"Recall metric.\n",
    "\n",
    "        Only computes a batch-wise average of recall.\n",
    "\n",
    "        Computes the recall, a metric for multi-label classification of\n",
    "        how many relevant items are selected.\n",
    "        \"\"\"\n",
    "        true_positives = K.sum(K.round(K.clip(y_true * y_pred, 0, 1)))\n",
    "        possible_positives = K.sum(K.round(K.clip(y_true, 0, 1)))\n",
    "        recall = true_positives / (possible_positives + K.epsilon())\n",
    "        return recall\n",
    "\n",
    "    def precision(y_true, y_pred):\n",
    "        \"\"\"Precision metric.\n",
    "\n",
    "        Only computes a batch-wise average of precision.\n",
    "\n",
    "        Computes the precision, a metric for multi-label classification of\n",
    "        how many selected items are relevant.\n",
    "        \"\"\"\n",
    "        true_positives = K.sum(K.round(K.clip(y_true * y_pred, 0, 1)))\n",
    "        predicted_positives = K.sum(K.round(K.clip(y_pred, 0, 1)))\n",
    "        precision = true_positives / (predicted_positives + K.epsilon())\n",
    "        return precision\n",
    "    precision = precision(y_true, y_pred)\n",
    "    recall = recall(y_true, y_pred)\n",
    "    return 2*((precision*recall)/(precision+recall+K.epsilon()))"
   ]
  },
  {
   "cell_type": "code",
   "execution_count": 123,
   "metadata": {
    "collapsed": true
   },
   "outputs": [],
   "source": [
    "X_train, X_test, y_train, y_test = train_test_split(strain_data, train_label, test_size=0.3, random_state=42)"
   ]
  },
  {
   "cell_type": "code",
   "execution_count": 127,
   "metadata": {},
   "outputs": [],
   "source": [
    "length = 22\n",
    "X_train = X_train.reshape(X_train.shape[0], 1, length)\n",
    "y_train = to_categorical(y_train)\n",
    "y_train = y_train.reshape(y_train.shape[0],1, 6)\n",
    "X_test = X_test.reshape(X_test.shape[0], 1, length)\n",
    "y_test = to_categorical(y_test)\n",
    "y_test =  y_test.reshape(y_test.shape[0], 1,6)"
   ]
  },
  {
   "cell_type": "code",
   "execution_count": 128,
   "metadata": {},
   "outputs": [
    {
     "data": {
      "text/plain": [
       "((102133, 1, 6), (102133, 1, 22))"
      ]
     },
     "execution_count": 128,
     "metadata": {},
     "output_type": "execute_result"
    }
   ],
   "source": [
    "y_train.shape, X_train.shape"
   ]
  },
  {
   "cell_type": "code",
   "execution_count": 110,
   "metadata": {},
   "outputs": [
    {
     "name": "stderr",
     "output_type": "stream",
     "text": [
      "/anaconda3/lib/python3.6/site-packages/ipykernel/__main__.py:22: UserWarning: Update your `Dense` call to the Keras 2 API: `Dense(units=6)`\n"
     ]
    },
    {
     "data": {
      "text/plain": [
       "'\\nmodel = Sequential()\\nmodel.add(LSTM((1),batch_input_shape=(None, 5, 1),return_sequences=False))\\n'"
      ]
     },
     "execution_count": 110,
     "metadata": {},
     "output_type": "execute_result"
    }
   ],
   "source": [
    "model= Sequential([\n",
    "                LSTM(length,\n",
    "                input_shape=(1,22),\n",
    "                return_sequences=True),\n",
    "                Dropout(0.2),\n",
    "                LSTM(128,\n",
    "                return_sequences=True),\n",
    "                Dropout(0.2),\n",
    "                LSTM(128,\n",
    "                return_sequences=True),\n",
    "                Dropout(0.2),\n",
    "                LSTM(64,\n",
    "                return_sequences=True),\n",
    "                Dropout(0.2),\n",
    "                Dense(output_dim=6),\n",
    "                Activation('sigmoid')\n",
    "                ])\n",
    "\"\"\"\n",
    "model = Sequential()\n",
    "model.add(LSTM((1),batch_input_shape=(None, 5, 1),return_sequences=False))\n",
    "\"\"\""
   ]
  },
  {
   "cell_type": "code",
   "execution_count": 111,
   "metadata": {
    "collapsed": true
   },
   "outputs": [],
   "source": [
    "model.compile(optimizer='adam',\n",
    "              loss='categorical_crossentropy',\n",
    "              metrics=['accuracy',f1])"
   ]
  },
  {
   "cell_type": "code",
   "execution_count": 112,
   "metadata": {},
   "outputs": [
    {
     "name": "stdout",
     "output_type": "stream",
     "text": [
      "_________________________________________________________________\n",
      "Layer (type)                 Output Shape              Param #   \n",
      "=================================================================\n",
      "lstm_127 (LSTM)              (None, 1, 22)             3960      \n",
      "_________________________________________________________________\n",
      "dropout_106 (Dropout)        (None, 1, 22)             0         \n",
      "_________________________________________________________________\n",
      "lstm_128 (LSTM)              (None, 1, 128)            77312     \n",
      "_________________________________________________________________\n",
      "dropout_107 (Dropout)        (None, 1, 128)            0         \n",
      "_________________________________________________________________\n",
      "lstm_129 (LSTM)              (None, 1, 128)            131584    \n",
      "_________________________________________________________________\n",
      "dropout_108 (Dropout)        (None, 1, 128)            0         \n",
      "_________________________________________________________________\n",
      "lstm_130 (LSTM)              (None, 1, 64)             49408     \n",
      "_________________________________________________________________\n",
      "dropout_109 (Dropout)        (None, 1, 64)             0         \n",
      "_________________________________________________________________\n",
      "dense_39 (Dense)             (None, 1, 6)              390       \n",
      "_________________________________________________________________\n",
      "activation_32 (Activation)   (None, 1, 6)              0         \n",
      "=================================================================\n",
      "Total params: 262,654\n",
      "Trainable params: 262,654\n",
      "Non-trainable params: 0\n",
      "_________________________________________________________________\n"
     ]
    }
   ],
   "source": [
    "model.summary()"
   ]
  },
  {
   "cell_type": "code",
   "execution_count": 129,
   "metadata": {},
   "outputs": [
    {
     "name": "stdout",
     "output_type": "stream",
     "text": [
      "Train on 71493 samples, validate on 30640 samples\n",
      "Epoch 1/10\n",
      "71493/71493 [==============================] - 47s 664us/step - loss: 0.8998 - acc: 0.4720 - f1: 0.6161 - val_loss: 0.8326 - val_acc: 0.4826 - val_f1: 0.6225\n",
      "Epoch 2/10\n",
      "71493/71493 [==============================] - 43s 605us/step - loss: 0.8321 - acc: 0.4806 - f1: 0.6227 - val_loss: 0.8104 - val_acc: 0.5250 - val_f1: 0.6319\n",
      "Epoch 3/10\n",
      "71493/71493 [==============================] - 41s 578us/step - loss: 0.8053 - acc: 0.5487 - f1: 0.6350 - val_loss: 0.8046 - val_acc: 0.5641 - val_f1: 0.6381\n",
      "Epoch 4/10\n",
      "71493/71493 [==============================] - 43s 595us/step - loss: 0.7943 - acc: 0.5623 - f1: 0.6369 - val_loss: 0.7828 - val_acc: 0.5701 - val_f1: 0.6416\n",
      "Epoch 5/10\n",
      "71493/71493 [==============================] - 44s 612us/step - loss: 0.7853 - acc: 0.5679 - f1: 0.6399 - val_loss: 0.7717 - val_acc: 0.5766 - val_f1: 0.6489\n",
      "Epoch 6/10\n",
      "71493/71493 [==============================] - 44s 610us/step - loss: 0.7776 - acc: 0.5737 - f1: 0.6421 - val_loss: 0.7662 - val_acc: 0.5804 - val_f1: 0.6484\n",
      "Epoch 7/10\n",
      "71493/71493 [==============================] - 44s 618us/step - loss: 0.7725 - acc: 0.5732 - f1: 0.6443 - val_loss: 0.7668 - val_acc: 0.5802 - val_f1: 0.6490\n",
      "Epoch 8/10\n",
      "71493/71493 [==============================] - 44s 615us/step - loss: 0.7701 - acc: 0.5744 - f1: 0.6459 - val_loss: 0.7637 - val_acc: 0.5783 - val_f1: 0.6499\n",
      "Epoch 9/10\n",
      "71493/71493 [==============================] - 43s 597us/step - loss: 0.7688 - acc: 0.5736 - f1: 0.6464 - val_loss: 0.7640 - val_acc: 0.5802 - val_f1: 0.6481\n",
      "Epoch 10/10\n",
      "71493/71493 [==============================] - 46s 644us/step - loss: 0.7660 - acc: 0.5771 - f1: 0.6485 - val_loss: 0.7598 - val_acc: 0.5833 - val_f1: 0.6522\n"
     ]
    }
   ],
   "source": [
    "history = model.fit(X_train,y_train, \n",
    "                    epochs=10,\n",
    "                    batch_size = 64,\n",
    "                    validation_split=0.3)"
   ]
  },
  {
   "cell_type": "code",
   "execution_count": 130,
   "metadata": {},
   "outputs": [
    {
     "data": {
      "image/png": "[encoded data removed]",
      "text/plain": [
       "<matplotlib.figure.Figure at 0x1a4b960390>"
      ]
     },
     "metadata": {},
     "output_type": "display_data"
    }
   ],
   "source": [
    "plt.plot(history.history['acc'])\n",
    "plt.plot(history.history['val_acc'])\n",
    "plt.title('model accuracy')\n",
    "plt.ylabel('accuracy')\n",
    "plt.xlabel('epoch')\n",
    "plt.legend(['train', 'test'], loc='upper left')\n",
    "plt.show()"
   ]
  },
  {
   "cell_type": "code",
   "execution_count": 131,
   "metadata": {},
   "outputs": [
    {
     "data": {
      "image/png": "[encoded data removed]",
      "text/plain": [
       "<matplotlib.figure.Figure at 0x1a4b960048>"
      ]
     },
     "metadata": {},
     "output_type": "display_data"
    }
   ],
   "source": [
    "plt.plot(history.history['loss'])\n",
    "plt.plot(history.history['val_loss'])\n",
    "plt.title('model loss')\n",
    "plt.ylabel('loss')\n",
    "plt.xlabel('epoch')\n",
    "plt.legend(['train', 'test'], loc='upper left')\n",
    "plt.show()"
   ]
  },
  {
   "cell_type": "code",
   "execution_count": null,
   "metadata": {
    "collapsed": true
   },
   "outputs": [],
   "source": []
  }
 ],
 "metadata": {
  "kernelspec": {
   "display_name": "Python [default]",
   "language": "python",
   "name": "python3"
  },
  "language_info": {
   "codemirror_mode": {
    "name": "ipython",
    "version": 3
   },
   "file_extension": ".py",
   "mimetype": "text/x-python",
   "name": "python",
   "nbconvert_exporter": "python",
   "pygments_lexer": "ipython3",
   "version": "3.6.3"
  }
 },
 "nbformat": 4,
 "nbformat_minor": 2
}
